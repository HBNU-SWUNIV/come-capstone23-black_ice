{
 "cells": [
  {
   "cell_type": "code",
   "execution_count": 1,
   "metadata": {},
   "outputs": [
    {
     "ename": "",
     "evalue": "",
     "output_type": "error",
     "traceback": [
      "\u001b[1;31m코드를 실행할 수 없습니다. 세션이 삭제되었습니다. 커널을 다시 시작해 보세요."
     ]
    },
    {
     "ename": "",
     "evalue": "",
     "output_type": "error",
     "traceback": [
      "\u001b[1;31m현재 셀 또는 이전 셀에서 코드를 실행하는 동안 Kernel이 충돌했습니다. 셀의 코드를 검토하여 오류의 가능한 원인을 식별하세요. 자세한 내용을 보려면 <a href='https://aka.ms/vscodeJupyterKernelCrash'> 여기 </a> 를 클릭하세요. 자세한 내용은 Jupyter <a href='command:jupyter.viewOutput'>로그</a>를 참조하세요."
     ]
    }
   ],
   "source": [
    "print('l')\n",
    "import onnxruntime as ort\n",
    "import cv2 as cv\n",
    "import numpy as np\n",
    "import torchvision.transforms as transforms\n",
    "from datetime import datetime\n",
    "\n",
    "\n",
    "\n",
    "# ONNX 런타임 세션 열기\n",
    "session = ort.InferenceSession(\"A10E4_Net_epoch_63.onnx\")\n",
    "\n",
    "# 이미지 불러오기\n",
    "image_path = \"D12028.png\"\n",
    "image = cv.imread(image_path)\n",
    "image = cv.cvtColor(image, cv.COLOR_BGR2RGB)\n",
    "\n",
    "\n",
    "scr = np.zeros([4, 2], dtype=np.float32)\n",
    "scr[0] = np.array([865, 38])#'left_top'\n",
    "scr[1] = np.array([1055 ,38])#'right_top'\n",
    "scr[2] = np.array([1165, 418])#'left_bottom'\n",
    "scr[3] = np.array([755, 418])#'right_bottom'\n",
    "dst = np.float32([[0, 0], [300, 0], [0, 300], [300, 300]])\n",
    "\n",
    "#퍼스펙티브 변환 행렬 생성\n",
    "m = cv.getPerspectiveTransform(scr, dst)\n",
    "\n",
    "#퍼스펙티브 변환, 리사이즈 동시적용\n",
    "img_result = cv.warpPerspective(image, m, (300, 300))\n",
    "\n",
    "# 이미지 크기를 모델 입력 크기에 맞게 조정\n",
    "#텐서 변환 정의\n",
    "transform_ = transforms.Compose([\n",
    "    transforms.ToTensor(),      # 이미지를 텐서로 변환\n",
    "    transforms.Normalize(mean=[0.485, 0.456, 0.406],  std=[0.229, 0.224, 0.225]) #정규화, 이미지넷 데이터셋 기준값\n",
    "])\n",
    "input_tensor = transform_(img_result)\n",
    "input_tensor = input_tensor.unsqueeze(0)  # 데이터 형식 맞추기(배치 차원 추가)\n",
    "\n",
    "\n",
    "# ONNX 모델 실행, 입력 데이터는 {'입력 이름':넘파이 배열} 형태여야 함\n",
    "outputs = session.run(None, {\"image\": input_tensor.numpy()})\n",
    "\n",
    "# 확률 계산\n",
    "probabilities = outputs[0]  # 모델 출력은 outputs 리스트의 첫 번째 요소.\n",
    "rounded_probabilities = np.round(probabilities * 1000) / 1000\n",
    "\n",
    "# 가장 높은 확률과 해당 클래스 인덱스 찾기\n",
    "max_probability = np.max(probabilities, axis=1)\n",
    "predicted_class = np.argmax(probabilities, axis=1)\n",
    "\n",
    "# 결과 출력\n",
    "#print(\"가장 높은 확률:\", max_probability)\n",
    "#print(\"예측된 클래스 인덱스:\", predicted_class)\n",
    "\n",
    "now = datetime.now().strftime('%Y%m%d%H%M%S.%f')\n",
    "print(now, *predicted_class, *max_probability)"
   ]
  }
 ],
 "metadata": {
  "kernelspec": {
   "display_name": "Python 3",
   "language": "python",
   "name": "python3"
  },
  "language_info": {
   "codemirror_mode": {
    "name": "ipython",
    "version": 3
   },
   "file_extension": ".py",
   "mimetype": "text/x-python",
   "name": "python",
   "nbconvert_exporter": "python",
   "pygments_lexer": "ipython3",
   "version": "3.6.8"
  },
  "orig_nbformat": 4
 },
 "nbformat": 4,
 "nbformat_minor": 2
}
