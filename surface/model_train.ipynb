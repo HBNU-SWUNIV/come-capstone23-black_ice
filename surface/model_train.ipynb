{
  "cells": [
    {
      "attachments": {},
      "cell_type": "markdown",
      "metadata": {},
      "source": [
        "## 파이토치를 이용한 이미지 분류 모델 학습용 코드\n",
        "작동은 하지만 조정 필요."
      ]
    },
    {
      "attachments": {},
      "cell_type": "markdown",
      "metadata": {
        "id": "cMxv4wfrwPBL"
      },
      "source": [
        "# Install essential python packages"
      ]
    },
    {
      "cell_type": "code",
      "execution_count": null,
      "metadata": {},
      "outputs": [],
      "source": [
        "!pip install -q timm albumentations wandb\n",
        "!pip install catalyst\n",
        "!python -m pip install --upgrade pip\n",
        "\n",
        "import pkg_resources\n",
        "\n",
        "# 현재 환경에 설치된 모든 패키지 정보를 가져옴\n",
        "installed_packages = pkg_resources.working_set\n",
        "\n",
        "# 패키지 이름과 버전을 출력\n",
        "for package in installed_packages:\n",
        "    print(package.key, package.version)"
      ]
    },
    {
      "attachments": {},
      "cell_type": "markdown",
      "metadata": {
        "id": "wgLCw5TtwPBQ"
      },
      "source": [
        "# Import essential python packages"
      ]
    },
    {
      "cell_type": "code",
      "execution_count": 2,
      "metadata": {
        "id": "xJRsftcewPBQ"
      },
      "outputs": [
        {
          "name": "stderr",
          "output_type": "stream",
          "text": [
            "c:\\Users\\82103\\AppData\\Local\\Programs\\Python\\Python36\\lib\\site-packages\\tqdm\\auto.py:22: TqdmWarning: IProgress not found. Please update jupyter and ipywidgets. See https://ipywidgets.readthedocs.io/en/stable/user_install.html\n",
            "  from .autonotebook import tqdm as notebook_tqdm\n"
          ]
        }
      ],
      "source": [
        "from glob import glob\n",
        "from sklearn.model_selection import GroupKFold\n",
        "import torch\n",
        "from torch import nn\n",
        "import torch.nn.functional as F\n",
        "import os\n",
        "import time\n",
        "from datetime import datetime\n",
        "import random\n",
        "import cv2\n",
        "import pandas as pd\n",
        "import numpy as np\n",
        "import albumentations as A\n",
        "import matplotlib.pyplot as plt\n",
        "from albumentations.pytorch.transforms import ToTensorV2\n",
        "from torch.utils.data import Dataset, DataLoader\n",
        "from torch.utils.data.sampler import SequentialSampler\n",
        "from catalyst.data.sampler import BalanceClassSampler\n",
        "import wandb\n",
        "import timm\n",
        "import shutil\n",
        "import warnings\n",
        "\n",
        "warnings.filterwarnings(action='ignore')"
      ]
    },
    {
      "cell_type": "code",
      "execution_count": 3,
      "metadata": {
        "id": "HC4NSdFKwPBR"
      },
      "outputs": [],
      "source": [
        "args = {\n",
        "    'model_name': 'mobilenetv3_small_100',  # 신경망 구조\n",
        "    'lr': 1e-3,  # 학습률\n",
        "    'weight_decay': 1e-4,  # 가중치 감쇠\n",
        "    'drop_rate': 0.2,  # 학습 시 dropout 비율\n",
        "    'image_size': 300,  # 이미지 크기\n",
        "    'num_epochs': 2,  # 학습 반복수\n",
        "    'batch_size': 1,  # 미니배치 크기\n",
        "    'num_classes': 3,  # 판별할 클래스 개수\n",
        "    'num_folds': 5,  # 데이터셋 분할 fold 개수\n",
        "    'val_fold': 0,  # 검증용 fold 선택\n",
        "    'seed': 42,  # 랜덤 seed 설정\n",
        "    'log_step': 100,  # log 남길 iteration 반복 수\n",
        "    'model_save_step': 2,  # model 저장할 epoch 반복 수\n",
        "    'workspace_path': 'crop',  # 작업 위치\n",
        "    'checkpoint_dir': 'checkpoints',  # 모델 저장 디렉토리\n",
        "    'pretrained_name': '[name_model]_best.pth',  # 학습한 모델 파일이름 (.pth까지 붙이기)\n",
        "}\n",
        "TRAIN_DATA_ROOT_PATH = os.path.join(args['workspace_path'], 'train')\n",
        "TEST_DATA_ROOT_PATH = os.path.join(args['workspace_path'], 'test')"
      ]
    },
    {
      "cell_type": "code",
      "execution_count": 4,
      "metadata": {
        "id": "4GLRue7MwPBS"
      },
      "outputs": [],
      "source": [
        "def seed_everything(seed):\n",
        "    random.seed(seed)\n",
        "    os.environ['PYTHONHASHSEED'] = str(seed)\n",
        "    np.random.seed(seed)\n",
        "    torch.manual_seed(seed)\n",
        "    if torch.cuda.is_available():\n",
        "        torch.cuda.manual_seed(seed)\n",
        "        torch.backends.cudnn.deterministic = True\n",
        "        torch.backends.cudnn.benchmark = False\n",
        "\n",
        "seed_everything(43)"
      ]
    },
    {
      "cell_type": "code",
      "execution_count": 5,
      "metadata": {
        "colab": {
          "base_uri": "https://localhost:8080/"
        },
        "id": "R77jC5eywPBT",
        "outputId": "ea797090-bfc6-4410-abea-1e50c1f9b03a"
      },
      "outputs": [
        {
          "data": {
            "text/plain": [
              "device(type='cpu')"
            ]
          },
          "execution_count": 5,
          "metadata": {},
          "output_type": "execute_result"
        }
      ],
      "source": [
        "device = torch.device(\"cuda\" if torch.cuda.is_available() else \"cpu\")\n",
        "device"
      ]
    },
    {
      "cell_type": "code",
      "execution_count": 6,
      "metadata": {
        "colab": {
          "base_uri": "https://localhost:8080/",
          "height": 124
        },
        "id": "YKmDCVO-wPBU",
        "outputId": "7459f654-65e0-4225-cfdf-e427c98bc4b2"
      },
      "outputs": [
        {
          "name": "stderr",
          "output_type": "stream",
          "text": [
            "Failed to detect the name of this notebook, you can set it manually with the WANDB_NOTEBOOK_NAME environment variable to enable code saving.\n"
          ]
        },
        {
          "name": "stderr",
          "output_type": "stream",
          "text": [
            "\u001b[34m\u001b[1mwandb\u001b[0m: Currently logged in as: \u001b[33ma10e4\u001b[0m. Use \u001b[1m`wandb login --relogin`\u001b[0m to force relogin\n"
          ]
        },
        {
          "data": {
            "text/html": [
              "Tracking run with wandb version 0.15.10"
            ],
            "text/plain": [
              "<IPython.core.display.HTML object>"
            ]
          },
          "metadata": {},
          "output_type": "display_data"
        },
        {
          "data": {
            "text/html": [
              "Run data is saved locally in <code>d:\\AP\\road\\wandb\\run-20230919_003647-4nnx39vt</code>"
            ],
            "text/plain": [
              "<IPython.core.display.HTML object>"
            ]
          },
          "metadata": {},
          "output_type": "display_data"
        },
        {
          "data": {
            "text/html": [
              "Syncing run <strong><a href='https://wandb.ai/a10e4/2023/runs/4nnx39vt' target=\"_blank\">noble-plasma-132</a></strong> to <a href='https://wandb.ai/a10e4/2023' target=\"_blank\">Weights & Biases</a> (<a href='https://wandb.me/run' target=\"_blank\">docs</a>)<br/>"
            ],
            "text/plain": [
              "<IPython.core.display.HTML object>"
            ]
          },
          "metadata": {},
          "output_type": "display_data"
        },
        {
          "data": {
            "text/html": [
              " View project at <a href='https://wandb.ai/a10e4/2023' target=\"_blank\">https://wandb.ai/a10e4/2023</a>"
            ],
            "text/plain": [
              "<IPython.core.display.HTML object>"
            ]
          },
          "metadata": {},
          "output_type": "display_data"
        },
        {
          "data": {
            "text/html": [
              " View run at <a href='https://wandb.ai/a10e4/2023/runs/4nnx39vt' target=\"_blank\">https://wandb.ai/a10e4/2023/runs/4nnx39vt</a>"
            ],
            "text/plain": [
              "<IPython.core.display.HTML object>"
            ]
          },
          "metadata": {},
          "output_type": "display_data"
        }
      ],
      "source": [
        "#wandb 본인 것과 연동할 것\n",
        "now = datetime.now().strftime('%Y-%m-%d-%H-%M')\n",
        "\n",
        "wandb.init(project=\"2023\", entity=\"a10e4\")\n",
        "wandb.run.name = f'road_classification_{now}'\n",
        "#fd876340a8c014e0bcd7409fe0129e46e874bff8"
      ]
    },
    {
      "attachments": {},
      "cell_type": "markdown",
      "metadata": {
        "id": "qS6xy7cVwPBV"
      },
      "source": [
        "# GroupKFold splitting"
      ]
    },
    {
      "cell_type": "code",
      "execution_count": 7,
      "metadata": {
        "id": "Rh-7Z_DrwPBV"
      },
      "outputs": [],
      "source": [
        "dataset = []\n",
        "\n",
        "for label, kind in enumerate(['dry', 'water', 'frozen']):\n",
        "    #label = [0, 1, 2], kind = ['dry', 'water', 'frozen']\n",
        "\n",
        "    #현재 디렉토리의 파일 목록 추출\n",
        "    # 현 디렉토리 하의 전체 리소스 디렉토리/레이블된 리소스...n 디렉토리/ xxx.png 형식의 파일명 순회\n",
        "    for path in glob(f'{TRAIN_DATA_ROOT_PATH}/{kind}/*.png', recursive=True):\n",
        "        #from glob import glob\n",
        "        # glob('*.exe')               # 현재 디렉터리의 .exe 파일\n",
        "        #['python.exe', 'pythonw.exe']\n",
        "        dataset.append({\n",
        "            'kind': kind,\n",
        "            'image_name': path.replace('\\\\', '/').split('/')[-1],\n",
        "            'label': label\n",
        "        })\n",
        "\n",
        "random.shuffle(dataset)\n",
        "dataset = pd.DataFrame(dataset)\n",
        "\n",
        "gkf = GroupKFold(n_splits=args['num_folds'])\n",
        "\n",
        "#데이터프레임에 '폴드' 열 추가 후 0으로 값을 초기화\n",
        "dataset.loc[:, 'fold'] = 0\n",
        "\n",
        "#나눠진 폴드마다 학습/검증 다시 분할\n",
        "for fold_number, (train_index, val_index) in enumerate(gkf.split(X=dataset.index, y=dataset['label'], groups=dataset['image_name'])):\n",
        "    dataset.loc[dataset.iloc[val_index].index, 'fold'] = fold_number"
      ]
    },
    {
      "attachments": {},
      "cell_type": "markdown",
      "metadata": {
        "id": "HJKh0qPjwPBW"
      },
      "source": [
        "# Dataset"
      ]
    },
    {
      "cell_type": "code",
      "execution_count": 8,
      "metadata": {
        "id": "osR1URoZwPBX"
      },
      "outputs": [],
      "source": [
        "class DatasetRetriever(Dataset):\n",
        "    def __init__(self, kinds, image_names, labels, transforms=None):\n",
        "        super().__init__()\n",
        "        self.kinds = kinds #무리/군집(마름, 습윤, 빙결)\n",
        "        self.image_names = image_names #이미지 파일 이름\n",
        "        self.labels = labels #무리/군집에 따른 레이블(마름=0, 습윤=1, 빙결=2)\n",
        "        self.transforms = transforms #데이터 증대\n",
        "\n",
        "    def __getitem__(self, index: int):\n",
        "        kind, image_name, label = self.kinds[index], self.image_names[index], self.labels[index]\n",
        "        image_path = f'{TRAIN_DATA_ROOT_PATH}/{kind}/{image_name}'.replace('\\\\', '/')\n",
        "        image = cv2.imread(image_path, cv2.IMREAD_COLOR)\n",
        "        image = cv2.cvtColor(image, cv2.COLOR_BGR2RGB)\n",
        "        if self.transforms:\n",
        "            sample = {'image': image}\n",
        "\n",
        "            # https://dojang.io/mod/page/view.php?id=2347\n",
        "            # 함수/또는 클래스의 인자명과 인자 수가 다르면 에러가 나도록 정의되어 있음에 유의\n",
        "            sample = self.transforms(**sample)\n",
        "\n",
        "            image = sample['image']\n",
        "            \n",
        "        return image, label\n",
        "\n",
        "    def __len__(self) -> int:\n",
        "        return self.image_names.shape[0]\n",
        "\n",
        "    def get_labels(self):\n",
        "        return list(self.labels)"
      ]
    },
    {
      "attachments": {},
      "cell_type": "markdown",
      "metadata": {
        "id": "Vt47hWkPwPBX"
      },
      "source": [
        "# Simple Augmentations: Flips"
      ]
    },
    {
      "cell_type": "code",
      "execution_count": 9,
      "metadata": {
        "id": "nwrUau3WwPBX"
      },
      "outputs": [],
      "source": [
        "# import albumentations as A\n",
        "def get_train_transforms():\n",
        "    return A.Compose([\n",
        "            A.HorizontalFlip(p=0.5),\n",
        "            #A.RandomBrightnessContrast(p=0.5), #밝기 대비 무작위 조정, 50%확률\n",
        "            #A.Normalize(mean=np.array([0.485, 0.456, 0.406]), std=np.array([0.229, 0.224, 0.225])),\n",
        "            A.Normalize(),\n",
        "            ToTensorV2(p=1.0),\n",
        "        ], p=1.0)\n",
        "\n",
        "def get_valid_transforms():\n",
        "    return A.Compose([\n",
        "            #A.Normalize(mean=np.array([0.485, 0.456, 0.406]), std=np.array([0.229, 0.224, 0.225])),\n",
        "            A.Normalize(),\n",
        "            ToTensorV2(p=1.0),\n",
        "        ], p=1.0)"
      ]
    },
    {
      "cell_type": "code",
      "execution_count": 10,
      "metadata": {
        "id": "_DqqvgLfwPBY"
      },
      "outputs": [],
      "source": [
        "train_dataset = DatasetRetriever(\n",
        "    kinds = dataset[dataset['fold'] != args['val_fold']].kind.values,\n",
        "    image_names = dataset[dataset['fold'] != args['val_fold']].image_name.values,\n",
        "    labels = dataset[dataset['fold'] != args['val_fold']].label.values,\n",
        "    transforms = get_train_transforms(),\n",
        ")\n",
        "\n",
        "validation_dataset = DatasetRetriever(\n",
        "    kinds=dataset[dataset['fold'] == args['val_fold']].kind.values,\n",
        "    image_names=dataset[dataset['fold'] == args['val_fold']].image_name.values,\n",
        "    labels=dataset[dataset['fold'] == args['val_fold']].label.values,\n",
        "    transforms=get_valid_transforms(),\n",
        ")"
      ]
    },
    {
      "cell_type": "code",
      "execution_count": 11,
      "metadata": {
        "colab": {
          "base_uri": "https://localhost:8080/",
          "height": 484
        },
        "id": "HTu-jWVvwPBY",
        "outputId": "a615a4b2-0546-46ed-b270-a99165b4223c"
      },
      "outputs": [
        {
          "name": "stderr",
          "output_type": "stream",
          "text": [
            "Clipping input data to the valid range for imshow with RGB data ([0..1] for floats or [0..255] for integers).\n"
          ]
        },
        {
          "data": {
            "text/plain": [
              "<matplotlib.image.AxesImage at 0x2cb0a291ba8>"
            ]
          },
          "execution_count": 11,
          "metadata": {},
          "output_type": "execute_result"
        },
        {
          "data": {
            "image/png": "[encoded data removed]",
            "text/plain": [
              "<Figure size 1152x576 with 1 Axes>"
            ]
          },
          "metadata": {
            "needs_background": "light"
          },
          "output_type": "display_data"
        }
      ],
      "source": [
        "image, target = train_dataset[0]\n",
        "numpy_image = image.permute(1,2,0).cpu().numpy()\n",
        "\n",
        "fig, ax = plt.subplots(1, 1, figsize=(16, 8))\n",
        "\n",
        "ax.set_axis_off()\n",
        "ax.imshow(numpy_image)"
      ]
    },
    {
      "cell_type": "code",
      "execution_count": 12,
      "metadata": {
        "id": "5l4K_aOawPBZ"
      },
      "outputs": [],
      "source": [
        "train_loader = torch.utils.data.DataLoader(\n",
        "        train_dataset,\n",
        "        sampler = BalanceClassSampler(labels=train_dataset.get_labels(), mode=\"downsampling\"),\n",
        "        batch_size = args['batch_size'],\n",
        "        pin_memory = False,\n",
        "        drop_last = True,\n",
        "    )\n",
        "val_loader = torch.utils.data.DataLoader(\n",
        "        validation_dataset,\n",
        "        batch_size = args['batch_size'],\n",
        "        shuffle = False,\n",
        "        sampler = SequentialSampler(validation_dataset),\n",
        "        pin_memory = False,\n",
        "    )"
      ]
    },
    {
      "attachments": {},
      "cell_type": "markdown",
      "metadata": {
        "id": "5BtVtPACwPBZ"
      },
      "source": [
        "# Metrics"
      ]
    },
    {
      "cell_type": "code",
      "execution_count": 13,
      "metadata": {
        "id": "NJlPb99wwPBZ"
      },
      "outputs": [],
      "source": [
        "class AverageMeter(object):\n",
        "    \"\"\"Computes and stores the average and current value\"\"\"\n",
        "    def __init__(self):\n",
        "        self.reset()\n",
        "\n",
        "    def reset(self):\n",
        "        self.val = 0\n",
        "        self.avg = 0\n",
        "        self.sum = 0\n",
        "        self.count = 0\n",
        "\n",
        "    def update(self, val, n=1):\n",
        "        self.val = val\n",
        "        self.sum += val * n\n",
        "        self.count += n\n",
        "        self.avg = self.sum / self.count\n",
        "\n",
        "\n",
        "def accuracy(output, label, topk=(1,)):\n",
        "    \"\"\"Computes the precision@k for the specified values of k\"\"\"\n",
        "    maxk = max(topk)\n",
        "    batch_size = label.size(0)\n",
        "\n",
        "    _, pred = output.topk(maxk, 1, True, True)  # prediction: select k maximum at each output\n",
        "    pred = pred.t()\n",
        "    correct = pred.eq(label.view(1, -1).expand_as(pred))\n",
        "    acc = correct.view(-1).float().sum(0, keepdim=True).mul_(100.0 / batch_size)  # acc = num of equivalcencs / target_size\n",
        "    result = to_np(correct.view(-1))\n",
        "\n",
        "    return acc, result\n",
        "\n",
        "def to_np(x):\n",
        "    return x.detach().cpu().data.numpy()"
      ]
    },
    {
      "attachments": {},
      "cell_type": "markdown",
      "metadata": {
        "id": "b2ri0FfjwPBZ"
      },
      "source": [
        "# Loss"
      ]
    },
    {
      "cell_type": "code",
      "execution_count": 14,
      "metadata": {
        "id": "zk3WoNrjwPBZ"
      },
      "outputs": [],
      "source": [
        "loss_func = nn.CrossEntropyLoss().to(device)"
      ]
    },
    {
      "attachments": {},
      "cell_type": "markdown",
      "metadata": {
        "id": "FDX-pu24wPBa"
      },
      "source": [
        "# Model"
      ]
    },
    {
      "cell_type": "code",
      "execution_count": 15,
      "metadata": {
        "colab": {
          "base_uri": "https://localhost:8080/"
        },
        "id": "8lbO7M9PwPBa",
        "outputId": "a60df8f5-562a-4f85-bb63-3bc9721cb614"
      },
      "outputs": [
        {
          "name": "stderr",
          "output_type": "stream",
          "text": [
            "���� ������ �ùٸ��� �ʽ��ϴ�.\n"
          ]
        }
      ],
      "source": [
        "!mkdir './checkpoints'\n",
        "def get_net():\n",
        "    net = timm.create_model(args['model_name'], num_classes=args['num_classes'], pretrained=True)\n",
        "    return net"
      ]
    },
    {
      "cell_type": "code",
      "execution_count": 1,
      "metadata": {
        "colab": {
          "base_uri": "https://localhost:8080/"
        },
        "id": "dBCCJQRFeE-i",
        "outputId": "51b13369-8995-4e7f-b059-ba51a7a79e16"
      },
      "outputs": [
        {
          "name": "stderr",
          "output_type": "stream",
          "text": [
            "c:\\Users\\82103\\AppData\\Local\\Programs\\Python\\Python36\\lib\\site-packages\\tqdm\\auto.py:22: TqdmWarning: IProgress not found. Please update jupyter and ipywidgets. See https://ipywidgets.readthedocs.io/en/stable/user_install.html\n",
            "  from .autonotebook import tqdm as notebook_tqdm\n"
          ]
        },
        {
          "name": "stdout",
          "output_type": "stream",
          "text": [
            "init model done\n"
          ]
        }
      ],
      "source": [
        "from torch import nn\n",
        "from torch import Tensor\n",
        "\n",
        "class A10E4_Net(nn.Module):\n",
        "    def __init__(self) -> None:\n",
        "      super(A10E4_Net, self).__init__()\n",
        "\n",
        "      self.main = nn.Sequential(\n",
        "          #group1 3채널 입력(컬러이미지), 특징 추출 유형1\n",
        "          nn.Conv2d(in_channels=3, out_channels=6, kernel_size=3, stride=1),\n",
        "          nn.ReLU(),\n",
        "          nn.Conv2d(in_channels=6, out_channels=12, kernel_size=3, stride=1),\n",
        "          nn.ReLU(),\n",
        "          nn.MaxPool2d(kernel_size=2, stride=2),\n",
        "          nn.MaxPool2d(kernel_size=2, stride=2),\n",
        "          nn.Dropout(p=0.2),\n",
        "          \n",
        "          #group2 특징 추출 유형1\n",
        "          nn.Conv2d(in_channels=12, out_channels=24, kernel_size=3, stride=1),\n",
        "          nn.ReLU(),\n",
        "          nn.Conv2d(in_channels=24, out_channels=48, kernel_size=3, stride=1),\n",
        "          nn.ReLU(),\n",
        "          nn.MaxPool2d(kernel_size=2, stride=2),\n",
        "          nn.MaxPool2d(kernel_size=2, stride=2),\n",
        "          nn.Dropout(p=0.2),\n",
        "\n",
        "          #group3, 특징 추출 유형2\n",
        "          nn.Conv2d(in_channels=48, out_channels=48, kernel_size=3, stride=1),\n",
        "          nn.ReLU(),\n",
        "          nn.MaxPool2d(kernel_size=2, stride=2),\n",
        "          nn.Dropout(p=0.2),\n",
        "\n",
        "          #group4, 특징 추출 유형2\n",
        "          nn.Conv2d(in_channels=48, out_channels=96, kernel_size=3, stride=1),\n",
        "          nn.ReLU(),\n",
        "          nn.MaxPool2d(kernel_size=2, stride=2),\n",
        "          nn.Dropout(p=0.2), #flatten_size = 96 * (image_height//16) * (image_width//16)\n",
        "\n",
        "        )\n",
        "\n",
        "      self.fully_connected = nn.Sequential(               #group5 분류\n",
        "            nn.Linear(in_features=384, out_features=384),\n",
        "            nn.Dropout(p=0.2),\n",
        "            nn.Linear(in_features=384, out_features=192),\n",
        "            nn.Dropout(p=0.2),\n",
        "            nn.Linear(192, 192),\n",
        "            nn.Dropout(p=0.2),\n",
        "            nn.LogSoftmax(dim=1),\n",
        "        )\n",
        "\n",
        "\n",
        "    def forward(self, image: Tensor) -> Tensor:\n",
        "        \"\"\"Returns logit for the given tensor.\"\"\"\n",
        "        #with torch.no_grad():\n",
        "            #out = ImagePreProcessing()(image)\n",
        "        out = self.main(image)\n",
        "        out = out.view(out.size(0), -1)\n",
        "        out = self.fully_connected(out)\n",
        "        return out\n",
        "\n",
        "print(\"init model done\")"
      ]
    },
    {
      "attachments": {},
      "cell_type": "markdown",
      "metadata": {
        "id": "F0TX1FtrwPBa"
      },
      "source": [
        "# Save & Load pretrained model"
      ]
    },
    {
      "cell_type": "code",
      "execution_count": 17,
      "metadata": {
        "id": "mEL1MdA0wPBa"
      },
      "outputs": [],
      "source": [
        "def save_checkpoint(model, optimizer, best_acc, checkpoint_path, model_name, is_best, epoch):\n",
        "    state = {\n",
        "        'model': model.state_dict(),\n",
        "        'optimizer': optimizer.state_dict(),\n",
        "        'best_acc': best_acc,\n",
        "        'epoch': epoch\n",
        "    }\n",
        "\n",
        "    if not os.path.exists(checkpoint_path):\n",
        "        os.makedirs(checkpoint_path)\n",
        "\n",
        "    filename = os.path.join(checkpoint_path, f'{model_name}_model_epoch_{state[\"epoch\"]}.pth')\n",
        "    torch.save(state, filename)\n",
        "    if is_best:\n",
        "        shutil.copyfile(filename, os.path.join(checkpoint_path, f'{model_name}_model_best.pth'))\n",
        "        \n",
        "        art = wandb.Artifact(f'model3_2_{model_name}', type=\"model\")\n",
        "        art.add_file(f'./checkpoints/{model_name}_model_best.pth')\n",
        "        wandb.log_artifact(art)\n",
        "\n",
        "\n",
        "def load_checkpoint(model, optimizer, pretrained_path, device):\n",
        "    state = torch.load(pretrained_path, map_location=device)\n",
        "    model.load_state_dict(state['model'])\n",
        "    best_acc = state['best_acc']\n",
        "    epoch = state['epoch']\n",
        "    print(f'\\t## loaded trained models (epoch: {epoch}).... init epoch(1) \\n')\n",
        "    epoch = 1 #init\n",
        "    return model, optimizer, best_acc, epoch"
      ]
    },
    {
      "attachments": {},
      "cell_type": "markdown",
      "metadata": {
        "id": "ryDdC0EmwPBb"
      },
      "source": [
        "# Train & Validate"
      ]
    },
    {
      "cell_type": "code",
      "execution_count": 18,
      "metadata": {
        "id": "9h_BvssLwPBb"
      },
      "outputs": [],
      "source": [
        "def train(train_loader, model, *args):\n",
        "    # switch to train mode\n",
        "    model.train()\n",
        "\n",
        "    with torch.enable_grad():\n",
        "        train_acc, train_loss = iteration('train', train_loader, model, *args)\n",
        "\n",
        "    return train_acc, train_loss"
      ]
    },
    {
      "cell_type": "code",
      "execution_count": 19,
      "metadata": {
        "id": "XcQQogaGULf6"
      },
      "outputs": [],
      "source": [
        "def validate(val_loader, model, *args):\n",
        "    # switch to eval mode\n",
        "    model.eval()\n",
        "\n",
        "    with torch.no_grad():\n",
        "        val_acc, val_loss = iteration('val', val_loader, model, *args)\n",
        "\n",
        "    return val_acc, val_loss"
      ]
    },
    {
      "attachments": {},
      "cell_type": "markdown",
      "metadata": {
        "id": "-jw7EMMDwPBc"
      },
      "source": [
        "# Iteration"
      ]
    },
    {
      "cell_type": "code",
      "execution_count": 20,
      "metadata": {
        "id": "jSZvIM1jwPBc"
      },
      "outputs": [],
      "source": [
        "def iteration(mode, data_loader, model, optimizer, loss_func, epoch):\n",
        "    am_batch_time = AverageMeter()\n",
        "    am_data_time = AverageMeter()\n",
        "    am_loss = AverageMeter()\n",
        "    am_acc = AverageMeter()\n",
        "\n",
        "    end = time.time()\n",
        "    num_batch = np.ceil(len(data_loader)).astype(np.int32)\n",
        "\n",
        "    for i, (input_img, target) in enumerate(data_loader):\n",
        "        # measure data loading time\n",
        "        am_data_time.update(time.time() - end)\n",
        "        input_img = input_img.to(device)\n",
        "        target = target.to(device)\n",
        "        \n",
        "        # feed-forward\n",
        "        output = model(input_img)   # two output\n",
        "        \n",
        "        # calculate loss\n",
        "        output = torch.nan_to_num(output)\n",
        "        loss = loss_func(output, target)\n",
        "        am_loss.update(loss.item(), input_img.size(0))\n",
        "\n",
        "        # calculate accuracy\n",
        "        class_prob = F.softmax(output, dim=1)\n",
        "        class_acc, _ = accuracy(class_prob, target)\n",
        "        am_acc.update(class_acc.item(), input_img.size(0))\n",
        "\n",
        "        # compute gradient and do SGD step\n",
        "        if mode == 'train':\n",
        "            optimizer.zero_grad()\n",
        "            loss.backward()\n",
        "            optimizer.step()\n",
        "\n",
        "        # measure elapsed time\n",
        "        am_batch_time.update(time.time() - end)\n",
        "        end = time.time()\n",
        "        if (i + 1) % args['log_step'] == 0:\n",
        "            print('Epoch: [{0}/{1}][{2}/{3}]\\t'\n",
        "                  'Time {batch_time.val:.3f} ({batch_time.avg:.3f})\\t'\n",
        "                  'Data {data_time.val:.3f} ({data_time.avg:.3f})\\t'\n",
        "                  'Loss {loss.val:.4f} ({loss.avg:.4f}) \\t'\n",
        "                  'Accuracy {acc.val:.4f} ({acc.avg:.4f})'\n",
        "                  .format(epoch + 1, args['num_epochs'], i + 1, num_batch, batch_time=am_batch_time,\n",
        "                          data_time=am_data_time, loss=am_loss, acc=am_acc))\n",
        "\n",
        "    return am_acc.avg, am_loss.avg"
      ]
    },
    {
      "attachments": {},
      "cell_type": "markdown",
      "metadata": {
        "id": "2VNZbS9FwPBc"
      },
      "source": [
        "# Pipeline: train, validate, log, and save"
      ]
    },
    {
      "cell_type": "code",
      "execution_count": 21,
      "metadata": {
        "colab": {
          "base_uri": "https://localhost:8080/",
          "height": 294,
          "referenced_widgets": [
            "d38f2e2e8a694b8e9494abf6a098939a",
            "38b12090ae7f43bb8a78b67de41442c8",
            "96e68d387c284467b44fd4940c23e55e",
            "41e4da96bcc14e63b3ee71f11bf81db9",
            "c215026b359c42c2b2fcbdeb58acef62",
            "2cc2ff77ef694fe98d1ef43a4b96f8c9",
            "6cedb17dc48348b08a2fe427f05add95",
            "e94048a242a741ed95463e0c9338b2b1"
          ]
        },
        "id": "ekr4wxqDeE-l",
        "outputId": "3cd0da29-a92a-44f7-a78a-3fdb4eaabc5c"
      },
      "outputs": [
        {
          "data": {
            "text/html": [
              "Finishing last run (ID:4nnx39vt) before initializing another..."
            ],
            "text/plain": [
              "<IPython.core.display.HTML object>"
            ]
          },
          "metadata": {},
          "output_type": "display_data"
        },
        {
          "data": {
            "text/html": [
              "Waiting for W&B process to finish... <strong style=\"color:green\">(success).</strong>"
            ],
            "text/plain": [
              "<IPython.core.display.HTML object>"
            ]
          },
          "metadata": {},
          "output_type": "display_data"
        },
        {
          "data": {
            "text/html": [
              " View run <strong style=\"color:#cdcd00\">noble-plasma-132</strong> at: <a href='https://wandb.ai/a10e4/2023/runs/4nnx39vt' target=\"_blank\">https://wandb.ai/a10e4/2023/runs/4nnx39vt</a><br/>Synced 5 W&B file(s), 0 media file(s), 0 artifact file(s) and 0 other file(s)"
            ],
            "text/plain": [
              "<IPython.core.display.HTML object>"
            ]
          },
          "metadata": {},
          "output_type": "display_data"
        },
        {
          "data": {
            "text/html": [
              "Find logs at: <code>.\\wandb\\run-20230919_003647-4nnx39vt\\logs</code>"
            ],
            "text/plain": [
              "<IPython.core.display.HTML object>"
            ]
          },
          "metadata": {},
          "output_type": "display_data"
        },
        {
          "data": {
            "text/html": [
              "Successfully finished last run (ID:4nnx39vt). Initializing new run:<br/>"
            ],
            "text/plain": [
              "<IPython.core.display.HTML object>"
            ]
          },
          "metadata": {},
          "output_type": "display_data"
        },
        {
          "data": {
            "text/html": [
              "Tracking run with wandb version 0.15.10"
            ],
            "text/plain": [
              "<IPython.core.display.HTML object>"
            ]
          },
          "metadata": {},
          "output_type": "display_data"
        },
        {
          "data": {
            "text/html": [
              "Run data is saved locally in <code>d:\\AP\\road\\wandb\\run-20230919_003649-0zvl2fqr</code>"
            ],
            "text/plain": [
              "<IPython.core.display.HTML object>"
            ]
          },
          "metadata": {},
          "output_type": "display_data"
        },
        {
          "data": {
            "text/html": [
              "Syncing run <strong><a href='https://wandb.ai/a10e4/2023/runs/0zvl2fqr' target=\"_blank\">decent-night-133</a></strong> to <a href='https://wandb.ai/a10e4/2023' target=\"_blank\">Weights & Biases</a> (<a href='https://wandb.me/run' target=\"_blank\">docs</a>)<br/>"
            ],
            "text/plain": [
              "<IPython.core.display.HTML object>"
            ]
          },
          "metadata": {},
          "output_type": "display_data"
        },
        {
          "data": {
            "text/html": [
              " View project at <a href='https://wandb.ai/a10e4/2023' target=\"_blank\">https://wandb.ai/a10e4/2023</a>"
            ],
            "text/plain": [
              "<IPython.core.display.HTML object>"
            ]
          },
          "metadata": {},
          "output_type": "display_data"
        },
        {
          "data": {
            "text/html": [
              " View run at <a href='https://wandb.ai/a10e4/2023/runs/0zvl2fqr' target=\"_blank\">https://wandb.ai/a10e4/2023/runs/0zvl2fqr</a>"
            ],
            "text/plain": [
              "<IPython.core.display.HTML object>"
            ]
          },
          "metadata": {},
          "output_type": "display_data"
        }
      ],
      "source": [
        "#2. Use that dataset to train a model\n",
        "run = wandb.init(project=\"2023\", job_type=\"model-training\")"
      ]
    },
    {
      "cell_type": "code",
      "execution_count": null,
      "metadata": {
        "id": "ll12nLilwPBc"
      },
      "outputs": [],
      "source": [
        "args = {\n",
        "    'model_name': 'A10E4_Net',  # 신경망 구조\n",
        "    'lr': 1e-3,  # 학습률\n",
        "    'weight_decay': 1e-4,  # 가중치 감쇠\n",
        "    'drop_rate': 0.2,  # 학습 시 dropout 비율\n",
        "    'image_size': 300,  # 이미지 크기\n",
        "    'num_epochs': 1000,  # 학습 반복수\n",
        "    'batch_size': 8,  # 미니배치 크기\n",
        "    'num_classes': 3,  # 판별할 클래스 개수\n",
        "    'num_folds': 5,  # 데이터셋 분할 fold 개수\n",
        "    'val_fold': 0,  # 검증용 fold 선택\n",
        "    'seed': 42,  # 랜덤 seed 설정\n",
        "    'log_step': 100,  # log 남길 iteration 반복 수\n",
        "    'model_save_step': 20,  # model 저장할 epoch 반복 수\n",
        "    'workspace_path': 'crop',  # 작업 위치\n",
        "    'checkpoint_dir': 'checkpoints',  # 모델 저장 디렉토리\n",
        "    'pretrained_name': 'A10E4_Net_best.pth',  # 학습한 모델 파일이름 (.pth까지 붙이기)\n",
        "}\n",
        "\n",
        "#model = get_net().to(device)\n",
        "model = A10E4_Net().to(device)\n",
        "optimizer = torch.optim.AdamW(model.parameters(),\n",
        "                              lr=args['lr'], betas=(0.9, 0.999),\n",
        "                              weight_decay=args['weight_decay'])\n",
        "\n",
        "\n",
        "if args['pretrained_name']:\n",
        "    pretrained_path = os.path.join(args['checkpoint_dir'], args['pretrained_name'])\n",
        "    #model, optimizer, best_acc, initial_epoch = load_checkpoint(model, optimizer, pretrained_path, device)\n",
        "else:\n",
        "    initial_epoch = 0\n",
        "    best_acc = 0\n",
        "\n",
        "initial_epoch = 0\n",
        "best_acc = 0\n",
        "\n",
        "min_loss = 1000\n",
        "for epoch in range(initial_epoch, args['num_epochs']):\n",
        "    # train for one epoch\n",
        "    print('# Training')\n",
        "    train_acc, train_loss = train(train_loader, model, optimizer, loss_func, epoch)\n",
        "    wandb.log({'train_acc': train_acc, 'train_loss': train_loss})\n",
        "    print(f'epoch: {epoch}, train_acc: {train_acc}, train_loss: {train_loss}')\n",
        "\n",
        "    # evaluate on validation set\n",
        "    print('# Validation')\n",
        "    val_acc, val_loss = validate(val_loader, model, optimizer, loss_func, epoch)\n",
        "    wandb.log({'val_acc': val_acc, 'val_loss':val_loss})\n",
        "    print(f'epoch: {epoch}, val_acc: {val_acc}, val_loss: {val_loss}')\n",
        "\n",
        "    is_best = val_acc > best_acc\n",
        "    best_acc = max(val_acc, best_acc)\n",
        "    min_loss = min(val_loss, min_loss)\n",
        "\n",
        "    if is_best or (epoch + 1) % args['model_save_step'] == 0:\n",
        "        save_checkpoint(model, optimizer, best_acc, args['checkpoint_dir'], args['model_name'], is_best, epoch + 1)"
      ]
    },
    {
      "cell_type": "code",
      "execution_count": null,
      "metadata": {
        "id": "6J9kcKNfeE-m"
      },
      "outputs": [],
      "source": [
        "args = {\n",
        "    'model_name': 'efficientnet_b',  # 신경망 구조\n",
        "    'lr': 1e-3,  # 학습률\n",
        "    'weight_decay': 1e-4,  # 가중치 감쇠\n",
        "    'drop_rate': 0.2,  # 학습 시 dropout 비율\n",
        "    'image_size': 300,  # 이미지 크기\n",
        "    'num_epochs': 3,  # 학습 반복수\n",
        "    'batch_size': 8,  # 미니배치 크기\n",
        "    'num_classes': 3,  # 판별할 클래스 개수\n",
        "    'num_folds': 5,  # 데이터셋 분할 fold 개수\n",
        "    'val_fold': 0,  # 검증용 fold 선택\n",
        "    'seed': 42,  # 랜덤 seed 설정\n",
        "    'log_step': 100,  # log 남길 iteration 반복 수\n",
        "    'model_save_step': 1,  # model 저장할 epoch 반복 수\n",
        "    'workspace_path': 'crop',  # 작업 위치\n",
        "    'checkpoint_dir': 'checkpoints',  # 모델 저장 디렉토리\n",
        "    'pretrained_name': 'efficientnet_b0_best.pth',  # 학습한 모델 파일이름 (.pth까지 붙이기)\n",
        "}\n",
        "\n",
        "\n",
        "model_e = get_net().to(device)\n",
        "optimizer = torch.optim.AdamW(model_e.parameters(),\n",
        "                              lr=args['lr'], betas=(0.9, 0.999),\n",
        "                              weight_decay=args['weight_decay'])\n",
        "\n",
        "print()\n",
        "\n",
        "if args['pretrained_name']:\n",
        "    pretrained_path = os.path.join(args['checkpoint_dir'], args['pretrained_name'])\n",
        "    #model, optimizer, best_acc, initial_epoch = load_checkpoint(model, optimizer, pretrained_path, device)\n",
        "else:\n",
        "    initial_epoch = 0\n",
        "    best_acc = 0\n",
        "\n",
        "initial_epoch = 0\n",
        "best_acc = 0\n",
        "\n",
        "min_loss = 1000\n",
        "for epoch in range(initial_epoch, args['num_epochs']):\n",
        "    # train for one epoch\n",
        "    print('# Training')\n",
        "    train_acc, train_loss = train(train_loader, model_e, optimizer, loss_func, epoch)\n",
        "    wandb.log({'train_acc': train_acc, 'train_loss': train_loss})\n",
        "    print(f'epoch: {epoch}, train_acc: {train_acc}, train_loss: {train_loss}')\n",
        "\n",
        "    # evaluate on validation set\n",
        "    print('# Validation')\n",
        "    val_acc, val_loss = validate(val_loader, model_e, optimizer, loss_func, epoch)\n",
        "    wandb.log({'val_acc': val_acc, 'val_loss':val_loss})\n",
        "    print(f'epoch: {epoch}, val_acc: {val_acc}, val_loss: {val_loss}')\n",
        "\n",
        "    is_best = val_acc > best_acc\n",
        "    best_acc = max(val_acc, best_acc)\n",
        "    min_loss = min(val_loss, min_loss)\n",
        "\n",
        "    if is_best or (epoch + 1) % args['model_save_step'] == 0:\n",
        "        save_checkpoint(model_e, optimizer, best_acc, args['checkpoint_dir'], args['model_name'], is_best, epoch + 1)"
      ]
    },
    {
      "cell_type": "code",
      "execution_count": null,
      "metadata": {
        "colab": {
          "base_uri": "https://localhost:8080/"
        },
        "id": "uAV1C51deE-n",
        "outputId": "c0004007-ba2f-4e0b-d9a3-c180dc6522c0"
      },
      "outputs": [],
      "source": [
        "#모델 저장\n",
        "art = wandb.Artifact(\"road_test\", type=\"model\")\n",
        "\n",
        "art.add_file(\"checkpoints/mobilenetv3_small_100_model_best.pth\")\n",
        "wandb.log_artifact(art)"
      ]
    },
    {
      "attachments": {},
      "cell_type": "markdown",
      "metadata": {
        "id": "5gP4h-z0TUeT"
      },
      "source": [
        "# 검증"
      ]
    },
    {
      "cell_type": "code",
      "execution_count": null,
      "metadata": {
        "id": "ezBGPhIedNZk"
      },
      "outputs": [],
      "source": [
        "import torch, gc\n",
        "gc.collect()\n",
        "torch.cuda.empty_cache()"
      ]
    },
    {
      "cell_type": "code",
      "execution_count": null,
      "metadata": {
        "colab": {
          "base_uri": "https://localhost:8080/"
        },
        "id": "egDzA2huBr6g",
        "outputId": "4f215ed3-7834-4033-db2e-785616eff5c9"
      },
      "outputs": [
        {
          "name": "stdout",
          "output_type": "stream",
          "text": [
            "\t## loaded trained models (epoch: 1000).... init epoch(1) \n",
            "\n",
            "# Validation\n",
            "val_acc: 53.44827586206897, val_loss: 8.399543081795423\n"
          ]
        }
      ],
      "source": [
        "args = {\n",
        "    'model_name': 'mobilenetv3_small_100',  # 신경망 구조\n",
        "    'workspace_path': 'prop/crop',  # 작업 위치\n",
        "    'checkpoint_dir': 'checkpoints',  # 모델 저장 디렉토리\n",
        "    'lr': 1e-3,\n",
        "    'num_epochs': 1,  # 학습 반복수\n",
        "    'weight_decay': 1e-4,  # 가중치 감쇠\n",
        "    'log_step': 250, \n",
        "    'num_classes': 3,  # 판별할 클래스 개수\n",
        "    'pretrained_name': 'mobilenetv3_small_100_model_epoch_1000.pth',  # 학습한 모델 파일이름 (.pth까지 붙이기)\n",
        "}\n",
        "\n",
        "model = get_net().to(device)\n",
        "optimizer = torch.optim.AdamW(model.parameters(),\n",
        "                              lr=args['lr'], betas=(0.9, 0.999),\n",
        "                              weight_decay=args['weight_decay'])\n",
        "pretrained_path = os.path.join(args['checkpoint_dir'], args['pretrained_name'])\n",
        "model, optimizer, best_acc, initial_epoch = load_checkpoint(model, optimizer, pretrained_path, device)\n",
        "\n",
        "# evaluate on validation set\n",
        "print('# Validation')\n",
        "val_acc, val_loss = validate(val_loader, model, optimizer, loss_func, 0)\n",
        "print(f'val_acc: {val_acc}, val_loss: {val_loss}')"
      ]
    },
    {
      "cell_type": "code",
      "execution_count": 5,
      "metadata": {},
      "outputs": [
        {
          "name": "stdout",
          "output_type": "stream",
          "text": [
            "(300, 300, 3)\n",
            "<class 'torch.Tensor'>\n",
            "tensor([[[[-0.7479, -0.7650, -0.7650,  ...,  0.0398,  0.0398,  0.0741],\n",
            "          [-0.7137, -0.7479, -0.7479,  ...,  0.0227,  0.0227,  0.0227],\n",
            "          [-0.6965, -0.7137, -0.7137,  ...,  0.0227,  0.0227,  0.0056],\n",
            "          ...,\n",
            "          [-0.3027, -0.3883, -0.4568,  ..., -0.9020, -0.9020, -0.9192],\n",
            "          [-0.5424, -0.5596, -0.5424,  ..., -0.9020, -0.9192, -0.9363],\n",
            "          [-0.9363, -0.7650, -0.6965,  ..., -0.9192, -0.9363, -0.9534]],\n",
            "\n",
            "         [[-0.7052, -0.7227, -0.7227,  ...,  0.0651,  0.0651,  0.0826],\n",
            "          [-0.6877, -0.7052, -0.7052,  ...,  0.0476,  0.0476,  0.0476],\n",
            "          [-0.6527, -0.6877, -0.6877,  ...,  0.0476,  0.0476,  0.0301],\n",
            "          ...,\n",
            "          [-0.1450, -0.2325, -0.3025,  ..., -0.7927, -0.7927, -0.8102],\n",
            "          [-0.3901, -0.4076, -0.3901,  ..., -0.7927, -0.8102, -0.8277],\n",
            "          [-0.7927, -0.6352, -0.5476,  ..., -0.8102, -0.8277, -0.8452]],\n",
            "\n",
            "         [[-0.5321, -0.5670, -0.5670,  ...,  0.1651,  0.1651,  0.1825],\n",
            "          [-0.5147, -0.5321, -0.5321,  ...,  0.1302,  0.1302,  0.1302],\n",
            "          [-0.4973, -0.5147, -0.5147,  ...,  0.1825,  0.1825,  0.1476],\n",
            "          ...,\n",
            "          [ 0.1476,  0.0605, -0.0092,  ..., -0.5670, -0.5670, -0.5844],\n",
            "          [-0.0790, -0.1138, -0.0790,  ..., -0.6018, -0.6193, -0.6367],\n",
            "          [-0.4973, -0.3230, -0.2532,  ..., -0.6193, -0.6367, -0.6715]]]])\n",
            "torch.Size([1, 3, 300, 300])\n",
            "\t## loaded trained models (epoch: 3).... init epoch(1) \n",
            "\n",
            "tensor([[ -1.2157,  -5.0826,  -0.7349, -12.1970,  -5.0826, -13.5093, -12.8758,\n",
            "         -12.1030, -13.2185, -13.5452, -13.2865, -12.0647,  -5.0826, -12.1467,\n",
            "         -12.7159, -12.6199, -12.4326, -11.8705, -12.5782, -12.1156, -12.0092,\n",
            "         -12.2997, -12.7622,  -5.0826, -12.5819, -12.1739, -12.9796, -12.5608,\n",
            "         -12.4379, -13.1142, -11.9796, -13.4623, -12.6046, -12.2023, -12.7887,\n",
            "          -5.0826, -12.9099, -13.0220,  -5.0826, -13.1640, -13.0948, -11.8759,\n",
            "         -12.2722, -12.9819, -13.4375, -12.8872, -12.9407,  -5.0826, -12.6253,\n",
            "          -5.0826, -11.9366, -11.6669, -12.5766, -13.2103, -12.7598,  -5.0826,\n",
            "         -12.4039,  -5.0826, -11.8288,  -5.0826, -12.5438, -13.2140, -13.6634,\n",
            "         -12.6466, -12.3995, -12.3297, -12.2522, -12.3227, -12.9189, -12.0940,\n",
            "          -5.0826, -11.7251, -11.4988, -12.0830, -12.2831, -11.7627, -13.3986,\n",
            "         -13.5216, -12.7334, -12.4765, -11.6645, -12.5019,  -5.0826, -12.0837,\n",
            "         -12.3739, -12.8186, -12.5671, -12.7037, -13.0939, -12.7067,  -5.0826,\n",
            "         -12.0878, -12.6961, -13.1228, -11.8546, -12.6013, -11.4956, -13.3407,\n",
            "         -13.1401, -12.3651, -12.5334, -11.9784, -12.8410,  -5.0826,  -5.0826,\n",
            "         -12.5949, -13.0291,  -5.0826,  -5.0826,  -5.0826, -11.9808, -12.9158,\n",
            "         -12.4214, -13.1315, -12.5227, -12.9817,  -5.0826, -12.7296, -12.2730,\n",
            "         -11.7874,  -5.0826, -11.7214, -12.7602,  -5.0826, -13.3169, -12.5114,\n",
            "         -12.2527, -12.6364, -12.9284, -13.0262, -12.3409, -12.3661,  -5.0826,\n",
            "         -12.9961, -13.4277,  -5.0826,  -5.0826, -11.6441, -11.9873, -13.1534,\n",
            "         -12.1991,  -5.0826, -12.2929,  -5.0826, -11.2394,  -5.0826,  -5.0826,\n",
            "         -12.7896,  -5.0826,  -5.0826, -13.3890, -13.1100, -12.8282,  -5.0826,\n",
            "          -5.0826, -12.8440, -13.0078, -11.1261, -12.7387, -12.5496, -12.3283,\n",
            "         -12.1438, -13.0315, -13.2214, -12.4976, -12.1108, -12.0248,  -5.0826,\n",
            "         -13.1259, -12.5306,  -5.0826, -12.6499, -12.5576, -12.4074, -12.5175,\n",
            "          -5.0826, -11.2355, -12.6285, -12.1839, -13.3431, -12.3618, -12.9234,\n",
            "         -12.2642, -13.0183, -12.5286, -11.8212, -12.8923, -13.2837, -13.0259,\n",
            "         -12.4915, -13.2102, -13.3228]])\n",
            "모델 출력(처리x) tensor([[ -1.2157,  -5.0826,  -0.7349, -12.1970,  -5.0826, -13.5093, -12.8758,\n",
            "         -12.1030, -13.2185, -13.5452, -13.2865, -12.0647,  -5.0826, -12.1467,\n",
            "         -12.7159, -12.6199, -12.4326, -11.8705, -12.5782, -12.1156, -12.0092,\n",
            "         -12.2997, -12.7622,  -5.0826, -12.5819, -12.1739, -12.9796, -12.5608,\n",
            "         -12.4379, -13.1142, -11.9796, -13.4623, -12.6046, -12.2023, -12.7887,\n",
            "          -5.0826, -12.9099, -13.0220,  -5.0826, -13.1640, -13.0948, -11.8759,\n",
            "         -12.2722, -12.9819, -13.4375, -12.8872, -12.9407,  -5.0826, -12.6253,\n",
            "          -5.0826, -11.9366, -11.6669, -12.5766, -13.2103, -12.7598,  -5.0826,\n",
            "         -12.4039,  -5.0826, -11.8288,  -5.0826, -12.5438, -13.2140, -13.6634,\n",
            "         -12.6466, -12.3995, -12.3297, -12.2522, -12.3227, -12.9189, -12.0940,\n",
            "          -5.0826, -11.7251, -11.4988, -12.0830, -12.2831, -11.7627, -13.3986,\n",
            "         -13.5216, -12.7334, -12.4765, -11.6645, -12.5019,  -5.0826, -12.0837,\n",
            "         -12.3739, -12.8186, -12.5671, -12.7037, -13.0939, -12.7067,  -5.0826,\n",
            "         -12.0878, -12.6961, -13.1228, -11.8546, -12.6013, -11.4956, -13.3407,\n",
            "         -13.1401, -12.3651, -12.5334, -11.9784, -12.8410,  -5.0826,  -5.0826,\n",
            "         -12.5949, -13.0291,  -5.0826,  -5.0826,  -5.0826, -11.9808, -12.9158,\n",
            "         -12.4214, -13.1315, -12.5227, -12.9817,  -5.0826, -12.7296, -12.2730,\n",
            "         -11.7874,  -5.0826, -11.7214, -12.7602,  -5.0826, -13.3169, -12.5114,\n",
            "         -12.2527, -12.6364, -12.9284, -13.0262, -12.3409, -12.3661,  -5.0826,\n",
            "         -12.9961, -13.4277,  -5.0826,  -5.0826, -11.6441, -11.9873, -13.1534,\n",
            "         -12.1991,  -5.0826, -12.2929,  -5.0826, -11.2394,  -5.0826,  -5.0826,\n",
            "         -12.7896,  -5.0826,  -5.0826, -13.3890, -13.1100, -12.8282,  -5.0826,\n",
            "          -5.0826, -12.8440, -13.0078, -11.1261, -12.7387, -12.5496, -12.3283,\n",
            "         -12.1438, -13.0315, -13.2214, -12.4976, -12.1108, -12.0248,  -5.0826,\n",
            "         -13.1259, -12.5306,  -5.0826, -12.6499, -12.5576, -12.4074, -12.5175,\n",
            "          -5.0826, -11.2355, -12.6285, -12.1839, -13.3431, -12.3618, -12.9234,\n",
            "         -12.2642, -13.0183, -12.5286, -11.8212, -12.8923, -13.2837, -13.0259,\n",
            "         -12.4915, -13.2102, -13.3228]])\n",
            "모델 출력(처리o) tensor([[0.2970, 0.0060, 0.4800, 0.0000, 0.0060, 0.0000, 0.0000, 0.0000, 0.0000,\n",
            "         0.0000, 0.0000, 0.0000, 0.0060, 0.0000, 0.0000, 0.0000, 0.0000, 0.0000,\n",
            "         0.0000, 0.0000, 0.0000, 0.0000, 0.0000, 0.0060, 0.0000, 0.0000, 0.0000,\n",
            "         0.0000, 0.0000, 0.0000, 0.0000, 0.0000, 0.0000, 0.0000, 0.0000, 0.0060,\n",
            "         0.0000, 0.0000, 0.0060, 0.0000, 0.0000, 0.0000, 0.0000, 0.0000, 0.0000,\n",
            "         0.0000, 0.0000, 0.0060, 0.0000, 0.0060, 0.0000, 0.0000, 0.0000, 0.0000,\n",
            "         0.0000, 0.0060, 0.0000, 0.0060, 0.0000, 0.0060, 0.0000, 0.0000, 0.0000,\n",
            "         0.0000, 0.0000, 0.0000, 0.0000, 0.0000, 0.0000, 0.0000, 0.0060, 0.0000,\n",
            "         0.0000, 0.0000, 0.0000, 0.0000, 0.0000, 0.0000, 0.0000, 0.0000, 0.0000,\n",
            "         0.0000, 0.0060, 0.0000, 0.0000, 0.0000, 0.0000, 0.0000, 0.0000, 0.0000,\n",
            "         0.0060, 0.0000, 0.0000, 0.0000, 0.0000, 0.0000, 0.0000, 0.0000, 0.0000,\n",
            "         0.0000, 0.0000, 0.0000, 0.0000, 0.0060, 0.0060, 0.0000, 0.0000, 0.0060,\n",
            "         0.0060, 0.0060, 0.0000, 0.0000, 0.0000, 0.0000, 0.0000, 0.0000, 0.0060,\n",
            "         0.0000, 0.0000, 0.0000, 0.0060, 0.0000, 0.0000, 0.0060, 0.0000, 0.0000,\n",
            "         0.0000, 0.0000, 0.0000, 0.0000, 0.0000, 0.0000, 0.0060, 0.0000, 0.0000,\n",
            "         0.0060, 0.0060, 0.0000, 0.0000, 0.0000, 0.0000, 0.0060, 0.0000, 0.0060,\n",
            "         0.0000, 0.0060, 0.0060, 0.0000, 0.0060, 0.0060, 0.0000, 0.0000, 0.0000,\n",
            "         0.0060, 0.0060, 0.0000, 0.0000, 0.0000, 0.0000, 0.0000, 0.0000, 0.0000,\n",
            "         0.0000, 0.0000, 0.0000, 0.0000, 0.0000, 0.0060, 0.0000, 0.0000, 0.0060,\n",
            "         0.0000, 0.0000, 0.0000, 0.0000, 0.0060, 0.0000, 0.0000, 0.0000, 0.0000,\n",
            "         0.0000, 0.0000, 0.0000, 0.0000, 0.0000, 0.0000, 0.0000, 0.0000, 0.0000,\n",
            "         0.0000, 0.0000, 0.0000]])\n",
            "분류 : 2, 확률 : 0.47954297065734863 \n"
          ]
        }
      ],
      "source": [
        "import numpy as np\n",
        "import cv2\n",
        "from torchvision import transforms\n",
        "import torch\n",
        "import timm\n",
        "import os\n",
        "import torch.nn.functional as F\n",
        "\n",
        "args = {\n",
        "    'model_name': 'A10E4_Net',  # 신경망 구조\n",
        "    'lr': 1e-3,  # 학습률\n",
        "    'weight_decay': 1e-4,  # 가중치 감쇠\n",
        "    'image_size': 300,  # 이미지 크기\n",
        "    'num_classes': 3,  # 판별할 클래스 개수\n",
        "    'seed': 42,  # 랜덤 seed 설정\n",
        "   \n",
        "    'checkpoint_dir': 'checkpoints',  # 모델 저장 디렉토리\n",
        "    'pretrained_name': 'A10E4_Net_model_epoch_3.pth',  # 학습한 모델 파일이름 (.pth까지 붙이기)\n",
        "}\n",
        "\n",
        "def get_net():\n",
        "    net = timm.create_model(args['model_name'], num_classes=args['num_classes'], pretrained=True)\n",
        "    return net\n",
        "\n",
        "\n",
        "def load_checkpoint(model, optimizer, pretrained_path, device):\n",
        "    state = torch.load(pretrained_path, map_location=device)\n",
        "    model.load_state_dict(state['model'])\n",
        "    best_acc = state['best_acc']\n",
        "    epoch = state['epoch']\n",
        "    print(f'\\t## loaded trained models (epoch: {epoch}).... init epoch(1) \\n')\n",
        "    epoch = 1 #init\n",
        "    return model, optimizer, best_acc, epoch\n",
        "\n",
        "\n",
        "\n",
        "# 입력 데이터 생성\n",
        "image = cv2.imread('D:/AP/road/crop/test/dry/0051.png', cv2.IMREAD_COLOR)\n",
        "print(image.shape)\n",
        "# 이미지를 RGB 색상 순서로 변환\n",
        "image = cv2.cvtColor(image, cv2.COLOR_BGR2RGB)\n",
        "\n",
        "cv2.imwrite('D:/AP/road/t.png', image)\n",
        "\n",
        "\n",
        "# 이미지 변환\n",
        "transform = transforms.Compose([\n",
        "    #transforms.Resize((300, 300)),  # 모델에 맞는 크기로 리사이징\n",
        "    transforms.ToTensor(),          # 이미지를 텐서로 변환\n",
        "    transforms.Normalize(           # 이미지 정규화\n",
        "        mean=[0.485, 0.456, 0.406],  # ImageNet 데이터셋의 평균\n",
        "        std=[0.229, 0.224, 0.225]    # ImageNet 데이터셋의 표준 편차\n",
        "    )\n",
        "])\n",
        "\n",
        "input_tensor = transform(image)\n",
        "input_tensor = input_tensor.unsqueeze(0)  # 배치 차원 추가\n",
        "\n",
        "#print(type(input_tensor))\n",
        "#print(input_tensor)\n",
        "#print(input_tensor.shape)\n",
        "\n",
        "# 디바이스 설정\n",
        "device = torch.device(\"cuda\" if torch.cuda.is_available() else \"cpu\")\n",
        "# 모델 불러오기 및 디바이스 설정\n",
        "model = A10E4_Net().to(device)\n",
        "optimizer = torch.optim.AdamW(model.parameters(),\n",
        "                              lr=args['lr'], betas=(0.9, 0.999),\n",
        "                              weight_decay=args['weight_decay'])\n",
        "pretrained_path = os.path.join(args['checkpoint_dir'], args['pretrained_name'])\n",
        "model, optimizer, best_acc, initial_epoch = load_checkpoint(model, optimizer, pretrained_path, device)\n",
        "\n",
        "input_img = input_tensor.to(device)\n",
        "\n",
        "# 추론 실행\n",
        "#model.eval()  # 모델을 추론 모드로 설정\n",
        "with torch.no_grad():\n",
        "    outputs = model(input_img)\n",
        "#print(outputs)\n",
        "\n",
        "\n",
        "probabilities = F.softmax(outputs, dim=1)\n",
        "rounded_probabilities = torch.round(probabilities * 1000) / 1000  # 소수점 아래 3자리까지 반올림\n",
        "\n",
        "# 가장 높은 확률과 해당 클래스 인덱스 찾기\n",
        "max_probability, predicted_class = torch.max(probabilities, dim=1) # outputs.topk(k=1, dim=1, largest=True, sorted=True)\n",
        "\n",
        "\n",
        "#print('모델 출력(처리x)', outputs)\n",
        "#print('모델 출력(처리o)', rounded_probabilities) # tensor([[1., 0., 0.]]) 형태 출력. dry는 0, water는 1, frozen은 2\n",
        "print(f'분류 : {predicted_class.item()}, 확률 : {max_probability.item()} ')"
      ]
    },
    {
      "cell_type": "code",
      "execution_count": null,
      "metadata": {},
      "outputs": [],
      "source": [
        "print(model)"
      ]
    },
    {
      "cell_type": "code",
      "execution_count": null,
      "metadata": {},
      "outputs": [],
      "source": [
        "model.state_dict()"
      ]
    },
    {
      "cell_type": "code",
      "execution_count": null,
      "metadata": {},
      "outputs": [
        {
          "name": "stdout",
          "output_type": "stream",
          "text": [
            "============== Diagnostic Run torch.onnx.export version 2.0.1+cpu ==============\n",
            "verbose: False, log level: Level.ERROR\n",
            "======================= 0 NONE 0 NOTE 0 WARNING 0 ERROR ========================\n",
            "\n"
          ]
        }
      ],
      "source": [
        "import torch\n",
        "import torch.onnx as onnx\n",
        "\n",
        "model.eval()\n",
        "# ONNX로 변환\n",
        "\n",
        "# 입력 예시를 생성합니다.\n",
        "#dummy_input = torch.randn(batch_size, input_dim, height, width) 배치 사이즈는 자유, 인풋 차원은 학습시킨 입력값으로.\n",
        "dummy_input = torch.randn(1, 3, 300, 300)\n",
        "onnx_filename = 'mobilenetv3_small_100_best.onnx'  # ONNX 파일의 이름을 지정합니다.\n",
        "onnx.export(model, dummy_input, onnx_filename)"
      ]
    },
    {
      "cell_type": "code",
      "execution_count": null,
      "metadata": {},
      "outputs": [],
      "source": [
        "class_labels = {\n",
        "    0: 'dry',\n",
        "    1: 'water',\n",
        "    2: 'frozen'\n",
        "}\n",
        "\n",
        "# 클래스 레이블 파일 생성\n",
        "with open('class_labels.txt', 'w') as f:\n",
        "    for index, label in class_labels.items():\n",
        "        f.write(f'{index}: {label}\\n')"
      ]
    },
    {
      "cell_type": "code",
      "execution_count": null,
      "metadata": {
        "colab": {
          "base_uri": "https://localhost:8080/"
        },
        "id": "A5-MgMhmFoiO",
        "outputId": "f9896f82-7c33-4a51-c591-d1a96834f6de"
      },
      "outputs": [
        {
          "name": "stdout",
          "output_type": "stream",
          "text": [
            "\t## loaded trained models (epoch: 40).... init epoch(1) \n",
            "\n",
            "# Validation\n",
            "Epoch: [1/40][250/251]\tTime 0.118 (0.121)\tData 0.090 (0.094)\tLoss 0.0450 (0.1576) \tAccuracy 100.0000 (92.1500)\n"
          ]
        }
      ],
      "source": [
        "args = {\n",
        "    'model_name': 'tf_efficientnet_b0_true',  # 신경망 구조\n",
        "    'workspace_path': 'prop/crop',  # 작업 위치\n",
        "    'checkpoint_dir': 'checkpoints',  # 모델 저장 디렉토리\n",
        "    'log_step': 250, \n",
        "    'pretrained_name': 'A10E4Net_model_best.pth',  # 학습한 모델 파일이름 (.pth까지 붙이기)\n",
        "}\n",
        "\n",
        "\n",
        "pretrained_path = os.path.join(args['checkpoint_dir'], args['pretrained_name'])\n",
        "Mymodel, optimizer, best_acc, initial_epoch = load_checkpoint(Mymodel, optimizer, pretrained_path, device)\n",
        "\n",
        "# evaluate on validation set\n",
        "print('# Validation')\n",
        "val_acc, val_loss = validate(val_loader, Mymodel, optimizer, loss_func, 0)\n",
        "print(f'val_acc: {val_acc}, val_loss: {val_loss}')"
      ]
    },
    {
      "attachments": {},
      "cell_type": "markdown",
      "metadata": {
        "id": "90vW06T-TcID"
      },
      "source": [
        "# 출력"
      ]
    },
    {
      "cell_type": "code",
      "execution_count": null,
      "metadata": {
        "id": "eq7TnlTkwPBd"
      },
      "outputs": [],
      "source": [
        "#args['pretrained_name'] = 'tf_efficientnet_b0_true_model_best.pth'\n",
        "args['pretrained_name'] = 'tf_efficientnet_b0_false_model_best.pth'\n",
        "#args['pretrained_name'] = 'Mymodel_model_best.pth'\n",
        "\n",
        "\n",
        "print('use -> ',args['checkpoint_dir'], args['pretrained_name'])\n",
        "\n",
        "pretrained_path = os.path.join(args['checkpoint_dir'], args['pretrained_name'])\n",
        "model2, _, _, _ = load_checkpoint(model, optimizer, pretrained_path, device)\n",
        "model2.eval()"
      ]
    },
    {
      "cell_type": "code",
      "execution_count": null,
      "metadata": {
        "id": "egVMBrOZwPBd"
      },
      "outputs": [],
      "source": [
        "class DatasetSubmissionRetriever(Dataset):\n",
        "    def __init__(self, image_names, transforms=None):\n",
        "        super().__init__()\n",
        "        self.image_names = image_names\n",
        "        self.transforms = transforms\n",
        "\n",
        "    def __getitem__(self, index: int):\n",
        "        image_name = self.image_names[index]\n",
        "        image_path = f'{TEST_DATA_ROOT_PATH}/{image_name}'\n",
        "        image = cv2.imread(image_path, cv2.IMREAD_COLOR)\n",
        "        image = cv2.cvtColor(image, cv2.COLOR_BGR2RGB).astype(np.float32)\n",
        "        image /= 255.0\n",
        "        if self.transforms:\n",
        "            sample = {'image': image}\n",
        "            sample = self.transforms(**sample)\n",
        "            image = sample['image']\n",
        "\n",
        "        return image_name, image\n",
        "\n",
        "    def __len__(self) -> int:\n",
        "        return self.image_names.shape[0]\n",
        "\n"
      ]
    },
    {
      "cell_type": "code",
      "execution_count": null,
      "metadata": {
        "id": "VB-UNhdzwPBd"
      },
      "outputs": [],
      "source": [
        "dataset = DatasetSubmissionRetriever(\n",
        "    image_names=np.array([path.replace('\\\\', '/').split('/')[-1] for path in glob(f'{TEST_DATA_ROOT_PATH}/*.png')]),\n",
        "    transforms=get_valid_transforms(),\n",
        ")\n",
        "\n",
        "\n",
        "test_loader = DataLoader(\n",
        "    dataset,\n",
        "    batch_size=args['batch_size'],\n",
        "    shuffle=False,\n",
        "    drop_last=False,\n",
        ")"
      ]
    },
    {
      "cell_type": "code",
      "execution_count": null,
      "metadata": {
        "id": "ehaVwzoud7bM"
      },
      "outputs": [],
      "source": [
        "gc.collect()\n",
        "torch.cuda.empty_cache()"
      ]
    },
    {
      "cell_type": "code",
      "execution_count": null,
      "metadata": {
        "colab": {
          "base_uri": "https://localhost:8080/"
        },
        "id": "q8xWbIlMwPBd",
        "outputId": "621482f4-ecad-40ef-faa3-41ce1506faae"
      },
      "outputs": [
        {
          "name": "stdout",
          "output_type": "stream",
          "text": []
        }
      ],
      "source": [
        "df_result = pd.DataFrame(columns=['id', 'label'])\n",
        "for step, (image_names, images) in enumerate(test_loader):\n",
        "    print(step, end='\\r')\n",
        "    images = images.to(device)\n",
        "    output = model(images)\n",
        "    class_prob = F.softmax(output, dim=1)\n",
        "    _, class_pred = output.topk(1, 1, True, True)  # prediction: select k maximum at each output\n",
        "    label = class_pred.view(-1).detach().cpu().numpy()\n",
        "    df_curr = pd.DataFrame({\n",
        "        'id': image_names,\n",
        "        'label': label\n",
        "    })\n",
        "    df_result = pd.concat([df_result, df_curr], axis=0, ignore_index=True)"
      ]
    },
    {
      "cell_type": "code",
      "execution_count": null,
      "metadata": {
        "colab": {
          "base_uri": "https://localhost:8080/",
          "height": 206
        },
        "id": "EyPDMB2AwPBe",
        "outputId": "f3895616-d9ae-4e75-d677-85de92a52dbd"
      },
      "outputs": [
        {
          "data": {
            "text/html": [
              "\n",
              "  <div id=\"df-3fd7ff5f-52c8-4ee3-a985-0e3c938b275f\">\n",
              "    <div class=\"colab-df-container\">\n",
              "      <div>\n",
              "<style scoped>\n",
              "    .dataframe tbody tr th:only-of-type {\n",
              "        vertical-align: middle;\n",
              "    }\n",
              "\n",
              "    .dataframe tbody tr th {\n",
              "        vertical-align: top;\n",
              "    }\n",
              "\n",
              "    .dataframe thead th {\n",
              "        text-align: right;\n",
              "    }\n",
              "</style>\n",
              "<table border=\"1\" class=\"dataframe\">\n",
              "  <thead>\n",
              "    <tr style=\"text-align: right;\">\n",
              "      <th></th>\n",
              "      <th>id</th>\n",
              "      <th>label</th>\n",
              "    </tr>\n",
              "  </thead>\n",
              "  <tbody>\n",
              "    <tr>\n",
              "      <th>0</th>\n",
              "      <td>10971.png</td>\n",
              "      <td>1</td>\n",
              "    </tr>\n",
              "    <tr>\n",
              "      <th>1</th>\n",
              "      <td>11032.png</td>\n",
              "      <td>0</td>\n",
              "    </tr>\n",
              "    <tr>\n",
              "      <th>2</th>\n",
              "      <td>11053.png</td>\n",
              "      <td>0</td>\n",
              "    </tr>\n",
              "    <tr>\n",
              "      <th>3</th>\n",
              "      <td>10954.png</td>\n",
              "      <td>0</td>\n",
              "    </tr>\n",
              "    <tr>\n",
              "      <th>4</th>\n",
              "      <td>11034.png</td>\n",
              "      <td>1</td>\n",
              "    </tr>\n",
              "  </tbody>\n",
              "</table>\n",
              "</div>\n",
              "      <button class=\"colab-df-convert\" onclick=\"convertToInteractive('df-3fd7ff5f-52c8-4ee3-a985-0e3c938b275f')\"\n",
              "              title=\"Convert this dataframe to an interactive table.\"\n",
              "              style=\"display:none;\">\n",
              "        \n",
              "  <svg xmlns=\"http://www.w3.org/2000/svg\" height=\"24px\"viewBox=\"0 0 24 24\"\n",
              "       width=\"24px\">\n",
              "    <path d=\"M0 0h24v24H0V0z\" fill=\"none\"/>\n",
              "    <path d=\"M18.56 5.44l.94 2.06.94-2.06 2.06-.94-2.06-.94-.94-2.06-.94 2.06-2.06.94zm-11 1L8.5 8.5l.94-2.06 2.06-.94-2.06-.94L8.5 2.5l-.94 2.06-2.06.94zm10 10l.94 2.06.94-2.06 2.06-.94-2.06-.94-.94-2.06-.94 2.06-2.06.94z\"/><path d=\"M17.41 7.96l-1.37-1.37c-.4-.4-.92-.59-1.43-.59-.52 0-1.04.2-1.43.59L10.3 9.45l-7.72 7.72c-.78.78-.78 2.05 0 2.83L4 21.41c.39.39.9.59 1.41.59.51 0 1.02-.2 1.41-.59l7.78-7.78 2.81-2.81c.8-.78.8-2.07 0-2.86zM5.41 20L4 18.59l7.72-7.72 1.47 1.35L5.41 20z\"/>\n",
              "  </svg>\n",
              "      </button>\n",
              "      \n",
              "  <style>\n",
              "    .colab-df-container {\n",
              "      display:flex;\n",
              "      flex-wrap:wrap;\n",
              "      gap: 12px;\n",
              "    }\n",
              "\n",
              "    .colab-df-convert {\n",
              "      background-color: #E8F0FE;\n",
              "      border: none;\n",
              "      border-radius: 50%;\n",
              "      cursor: pointer;\n",
              "      display: none;\n",
              "      fill: #1967D2;\n",
              "      height: 32px;\n",
              "      padding: 0 0 0 0;\n",
              "      width: 32px;\n",
              "    }\n",
              "\n",
              "    .colab-df-convert:hover {\n",
              "      background-color: #E2EBFA;\n",
              "      box-shadow: 0px 1px 2px rgba(60, 64, 67, 0.3), 0px 1px 3px 1px rgba(60, 64, 67, 0.15);\n",
              "      fill: #174EA6;\n",
              "    }\n",
              "\n",
              "    [theme=dark] .colab-df-convert {\n",
              "      background-color: #3B4455;\n",
              "      fill: #D2E3FC;\n",
              "    }\n",
              "\n",
              "    [theme=dark] .colab-df-convert:hover {\n",
              "      background-color: #434B5C;\n",
              "      box-shadow: 0px 1px 3px 1px rgba(0, 0, 0, 0.15);\n",
              "      filter: drop-shadow(0px 1px 2px rgba(0, 0, 0, 0.3));\n",
              "      fill: #FFFFFF;\n",
              "    }\n",
              "  </style>\n",
              "\n",
              "      <script>\n",
              "        const buttonEl =\n",
              "          document.querySelector('#df-3fd7ff5f-52c8-4ee3-a985-0e3c938b275f button.colab-df-convert');\n",
              "        buttonEl.style.display =\n",
              "          google.colab.kernel.accessAllowed ? 'block' : 'none';\n",
              "\n",
              "        async function convertToInteractive(key) {\n",
              "          const element = document.querySelector('#df-3fd7ff5f-52c8-4ee3-a985-0e3c938b275f');\n",
              "          const dataTable =\n",
              "            await google.colab.kernel.invokeFunction('convertToInteractive',\n",
              "                                                     [key], {});\n",
              "          if (!dataTable) return;\n",
              "\n",
              "          const docLinkHtml = 'Like what you see? Visit the ' +\n",
              "            '<a target=\"_blank\" href=https://colab.research.google.com/notebooks/data_table.ipynb>data table notebook</a>'\n",
              "            + ' to learn more about interactive tables.';\n",
              "          element.innerHTML = '';\n",
              "          dataTable['output_type'] = 'display_data';\n",
              "          await google.colab.output.renderOutput(dataTable, element);\n",
              "          const docLink = document.createElement('div');\n",
              "          docLink.innerHTML = docLinkHtml;\n",
              "          element.appendChild(docLink);\n",
              "        }\n",
              "      </script>\n",
              "    </div>\n",
              "  </div>\n",
              "  "
            ],
            "text/plain": [
              "          id label\n",
              "0  10971.png     1\n",
              "1  11032.png     0\n",
              "2  11053.png     0\n",
              "3  10954.png     0\n",
              "4  11034.png     1"
            ]
          },
          "execution_count": 55,
          "metadata": {},
          "output_type": "execute_result"
        }
      ],
      "source": [
        "current_time = datetime.now().strftime(r'%y-%m-%d_%H-%M-%S')\n",
        "df_result.to_csv(f'submission_{current_time}.csv', index=False)\n",
        "df_result.head()"
      ]
    }
  ],
  "metadata": {
    "accelerator": "GPU",
    "colab": {
      "collapsed_sections": [
        "5BtVtPACwPBZ",
        "b2ri0FfjwPBZ"
      ],
      "provenance": []
    },
    "gpuClass": "standard",
    "kernelspec": {
      "display_name": "Python 3.6.4 64-bit",
      "language": "python",
      "name": "python3"
    },
    "language_info": {
      "codemirror_mode": {
        "name": "ipython",
        "version": 3
      },
      "file_extension": ".py",
      "mimetype": "text/x-python",
      "name": "python",
      "nbconvert_exporter": "python",
      "pygments_lexer": "ipython3",
      "version": "3.6.8"
    },
    "vscode": {
      "interpreter": {
        "hash": "8925fe4e8191082b8190f4a8bc3e603dedcd139d4bece3a774bbecd6dab00e6b"
      }
    },
    "widgets": {
      "application/vnd.jupyter.widget-state+json": {
        "2cc2ff77ef694fe98d1ef43a4b96f8c9": {
          "model_module": "@jupyter-widgets/controls",
          "model_module_version": "1.5.0",
          "model_name": "DescriptionStyleModel",
          "state": {
            "_model_module": "@jupyter-widgets/controls",
            "_model_module_version": "1.5.0",
            "_model_name": "DescriptionStyleModel",
            "_view_count": null,
            "_view_module": "@jupyter-widgets/base",
            "_view_module_version": "1.2.0",
            "_view_name": "StyleView",
            "description_width": ""
          }
        },
        "38b12090ae7f43bb8a78b67de41442c8": {
          "model_module": "@jupyter-widgets/controls",
          "model_module_version": "1.5.0",
          "model_name": "LabelModel",
          "state": {
            "_dom_classes": [],
            "_model_module": "@jupyter-widgets/controls",
            "_model_module_version": "1.5.0",
            "_model_name": "LabelModel",
            "_view_count": null,
            "_view_module": "@jupyter-widgets/controls",
            "_view_module_version": "1.5.0",
            "_view_name": "LabelView",
            "description": "",
            "description_tooltip": null,
            "layout": "IPY_MODEL_c215026b359c42c2b2fcbdeb58acef62",
            "placeholder": "​",
            "style": "IPY_MODEL_2cc2ff77ef694fe98d1ef43a4b96f8c9",
            "value": "0.001 MB of 0.009 MB uploaded (0.000 MB deduped)\r"
          }
        },
        "41e4da96bcc14e63b3ee71f11bf81db9": {
          "model_module": "@jupyter-widgets/base",
          "model_module_version": "1.2.0",
          "model_name": "LayoutModel",
          "state": {
            "_model_module": "@jupyter-widgets/base",
            "_model_module_version": "1.2.0",
            "_model_name": "LayoutModel",
            "_view_count": null,
            "_view_module": "@jupyter-widgets/base",
            "_view_module_version": "1.2.0",
            "_view_name": "LayoutView",
            "align_content": null,
            "align_items": null,
            "align_self": null,
            "border": null,
            "bottom": null,
            "display": null,
            "flex": null,
            "flex_flow": null,
            "grid_area": null,
            "grid_auto_columns": null,
            "grid_auto_flow": null,
            "grid_auto_rows": null,
            "grid_column": null,
            "grid_gap": null,
            "grid_row": null,
            "grid_template_areas": null,
            "grid_template_columns": null,
            "grid_template_rows": null,
            "height": null,
            "justify_content": null,
            "justify_items": null,
            "left": null,
            "margin": null,
            "max_height": null,
            "max_width": null,
            "min_height": null,
            "min_width": null,
            "object_fit": null,
            "object_position": null,
            "order": null,
            "overflow": null,
            "overflow_x": null,
            "overflow_y": null,
            "padding": null,
            "right": null,
            "top": null,
            "visibility": null,
            "width": null
          }
        },
        "6cedb17dc48348b08a2fe427f05add95": {
          "model_module": "@jupyter-widgets/base",
          "model_module_version": "1.2.0",
          "model_name": "LayoutModel",
          "state": {
            "_model_module": "@jupyter-widgets/base",
            "_model_module_version": "1.2.0",
            "_model_name": "LayoutModel",
            "_view_count": null,
            "_view_module": "@jupyter-widgets/base",
            "_view_module_version": "1.2.0",
            "_view_name": "LayoutView",
            "align_content": null,
            "align_items": null,
            "align_self": null,
            "border": null,
            "bottom": null,
            "display": null,
            "flex": null,
            "flex_flow": null,
            "grid_area": null,
            "grid_auto_columns": null,
            "grid_auto_flow": null,
            "grid_auto_rows": null,
            "grid_column": null,
            "grid_gap": null,
            "grid_row": null,
            "grid_template_areas": null,
            "grid_template_columns": null,
            "grid_template_rows": null,
            "height": null,
            "justify_content": null,
            "justify_items": null,
            "left": null,
            "margin": null,
            "max_height": null,
            "max_width": null,
            "min_height": null,
            "min_width": null,
            "object_fit": null,
            "object_position": null,
            "order": null,
            "overflow": null,
            "overflow_x": null,
            "overflow_y": null,
            "padding": null,
            "right": null,
            "top": null,
            "visibility": null,
            "width": null
          }
        },
        "96e68d387c284467b44fd4940c23e55e": {
          "model_module": "@jupyter-widgets/controls",
          "model_module_version": "1.5.0",
          "model_name": "FloatProgressModel",
          "state": {
            "_dom_classes": [],
            "_model_module": "@jupyter-widgets/controls",
            "_model_module_version": "1.5.0",
            "_model_name": "FloatProgressModel",
            "_view_count": null,
            "_view_module": "@jupyter-widgets/controls",
            "_view_module_version": "1.5.0",
            "_view_name": "ProgressView",
            "bar_style": "",
            "description": "",
            "description_tooltip": null,
            "layout": "IPY_MODEL_6cedb17dc48348b08a2fe427f05add95",
            "max": 1,
            "min": 0,
            "orientation": "horizontal",
            "style": "IPY_MODEL_e94048a242a741ed95463e0c9338b2b1",
            "value": 0.08222173627815438
          }
        },
        "c215026b359c42c2b2fcbdeb58acef62": {
          "model_module": "@jupyter-widgets/base",
          "model_module_version": "1.2.0",
          "model_name": "LayoutModel",
          "state": {
            "_model_module": "@jupyter-widgets/base",
            "_model_module_version": "1.2.0",
            "_model_name": "LayoutModel",
            "_view_count": null,
            "_view_module": "@jupyter-widgets/base",
            "_view_module_version": "1.2.0",
            "_view_name": "LayoutView",
            "align_content": null,
            "align_items": null,
            "align_self": null,
            "border": null,
            "bottom": null,
            "display": null,
            "flex": null,
            "flex_flow": null,
            "grid_area": null,
            "grid_auto_columns": null,
            "grid_auto_flow": null,
            "grid_auto_rows": null,
            "grid_column": null,
            "grid_gap": null,
            "grid_row": null,
            "grid_template_areas": null,
            "grid_template_columns": null,
            "grid_template_rows": null,
            "height": null,
            "justify_content": null,
            "justify_items": null,
            "left": null,
            "margin": null,
            "max_height": null,
            "max_width": null,
            "min_height": null,
            "min_width": null,
            "object_fit": null,
            "object_position": null,
            "order": null,
            "overflow": null,
            "overflow_x": null,
            "overflow_y": null,
            "padding": null,
            "right": null,
            "top": null,
            "visibility": null,
            "width": null
          }
        },
        "d38f2e2e8a694b8e9494abf6a098939a": {
          "model_module": "@jupyter-widgets/controls",
          "model_module_version": "1.5.0",
          "model_name": "VBoxModel",
          "state": {
            "_dom_classes": [],
            "_model_module": "@jupyter-widgets/controls",
            "_model_module_version": "1.5.0",
            "_model_name": "VBoxModel",
            "_view_count": null,
            "_view_module": "@jupyter-widgets/controls",
            "_view_module_version": "1.5.0",
            "_view_name": "VBoxView",
            "box_style": "",
            "children": [
              "IPY_MODEL_38b12090ae7f43bb8a78b67de41442c8",
              "IPY_MODEL_96e68d387c284467b44fd4940c23e55e"
            ],
            "layout": "IPY_MODEL_41e4da96bcc14e63b3ee71f11bf81db9"
          }
        },
        "e94048a242a741ed95463e0c9338b2b1": {
          "model_module": "@jupyter-widgets/controls",
          "model_module_version": "1.5.0",
          "model_name": "ProgressStyleModel",
          "state": {
            "_model_module": "@jupyter-widgets/controls",
            "_model_module_version": "1.5.0",
            "_model_name": "ProgressStyleModel",
            "_view_count": null,
            "_view_module": "@jupyter-widgets/base",
            "_view_module_version": "1.2.0",
            "_view_name": "StyleView",
            "bar_color": null,
            "description_width": ""
          }
        }
      }
    }
  },
  "nbformat": 4,
  "nbformat_minor": 0
}
