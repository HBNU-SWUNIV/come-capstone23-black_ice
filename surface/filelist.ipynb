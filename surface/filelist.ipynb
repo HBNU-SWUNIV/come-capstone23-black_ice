{
 "cells": [
  {
   "attachments": {},
   "cell_type": "markdown",
   "metadata": {},
   "source": [
    "## 이미지 전처리용 코드.\n",
    "폴더 안의 이미지 목록을 불러오고, 이미지 크기를 출력함, 이미지를 일정 크기로 자르기 편하도록 간단한 기능을 제공."
   ]
  },
  {
   "cell_type": "code",
   "execution_count": 1,
   "metadata": {},
   "outputs": [],
   "source": [
    "import os\n",
    "import cv2 as cv\n",
    "import numpy as np\n",
    "import random"
   ]
  },
  {
   "cell_type": "code",
   "execution_count": 2,
   "metadata": {},
   "outputs": [
    {
     "name": "stdout",
     "output_type": "stream",
     "text": [
      "c:\\Users\\82103\\Desktop\\road\n"
     ]
    }
   ],
   "source": [
    "location = os.getcwd()\n",
    "print(location)"
   ]
  },
  {
   "cell_type": "code",
   "execution_count": 3,
   "metadata": {},
   "outputs": [
    {
     "data": {
      "text/plain": [
       "['pikist (1).jpg',\n",
       " 'pikist (2).jpg',\n",
       " 'pikist (3).jpg',\n",
       " 'pikist (4).jpg',\n",
       " 'pikist.jpg']"
      ]
     },
     "execution_count": 3,
     "metadata": {},
     "output_type": "execute_result"
    }
   ],
   "source": [
    "lo ='C:/Users/82103/Desktop/road/f'\n",
    "file_list = os.listdir(lo)\n",
    "file_list"
   ]
  },
  {
   "cell_type": "code",
   "execution_count": 4,
   "metadata": {},
   "outputs": [
    {
     "name": "stdout",
     "output_type": "stream",
     "text": [
      "(4096, 6144, 3)\n",
      "[0] x= 6144\n",
      "[0] y= 4096\n",
      "[0]  번 이미지가 가장 너비가 작음. 6144\n",
      "[0]  번 이미지가 가장 높이가 작음. 4096\n",
      "(1333, 2000, 3)\n",
      "[1]  번 이미지가 가장 너비가 작음. 2000\n",
      "[1]  번 이미지가 가장 높이가 작음. 1333\n",
      "(2448, 3264, 3)\n",
      "(4000, 6016, 3)\n",
      "(3168, 4224, 3)\n",
      "6144 4096\n",
      "2000 1333\n"
     ]
    }
   ],
   "source": [
    "#이미지 크기 측정\n",
    "lo ='C:/Users/82103/Desktop/road/f/'\n",
    "file_list = os.listdir(lo)\n",
    "img = []\n",
    "x = 0\n",
    "y = 0\n",
    "x_min = 9999\n",
    "y_min = 9999\n",
    "\n",
    "for i in range(len(file_list)):\n",
    "    img = cv.imread(lo + file_list[i], cv.IMREAD_COLOR)\n",
    "    print(img.shape)\n",
    "    if x <= img.shape[1]:   \n",
    "        x = img.shape[1]\n",
    "        print([i], 'x=',x)\n",
    "\n",
    "    if y <= img.shape[0]:   \n",
    "        y = img.shape[0]\n",
    "        print([i], 'y=',y)\n",
    "\n",
    "    if x_min >= img.shape[1]:   \n",
    "        x_min = img.shape[1]\n",
    "        print([i],' 번 이미지가 가장 너비가 작음.', x_min)\n",
    "\n",
    "    if y_min >= img.shape[0]:  \n",
    "        y_min = img.shape[0]\n",
    "        print([i], ' 번 이미지가 가장 높이가 작음.', y_min, )\n",
    "\n",
    "print(x, y)\n",
    "print(x_min, y_min)\n"
   ]
  },
  {
   "cell_type": "code",
   "execution_count": 5,
   "metadata": {},
   "outputs": [
    {
     "name": "stdout",
     "output_type": "stream",
     "text": [
      "(4096, 6144, 3)\n",
      "(1333, 2000, 3)\n",
      "(2448, 3264, 3)\n",
      "(4000, 6016, 3)\n",
      "(3168, 4224, 3)\n"
     ]
    }
   ],
   "source": [
    "#기준 크기 미만 이미지 제거 또는 제거 권고\n",
    "lo ='C:/Users/82103/Desktop/road/f/'\n",
    "file_list = os.listdir(lo)\n",
    "img = []\n",
    "\n",
    "for i in range(len(file_list)):\n",
    "    img = cv.imread(lo + file_list[i], cv.IMREAD_COLOR)\n",
    "    print(img.shape)\n",
    "\n",
    "    if 300 >= img.shape[1]:   \n",
    "        os.remove(lo + file_list[i])\n",
    "        print([i],' 번 이미지 삭제 권고(기준 너비(x) 미달).', x_min)\n",
    "\n",
    "    if 300 >= img.shape[0]:  \n",
    "        os.remove(lo + file_list[i])\n",
    "        print([i], ' 번 이미지삭제 권고(기준 높이(y) 미달).', y_min, )\n"
   ]
  },
  {
   "cell_type": "code",
   "execution_count": 6,
   "metadata": {},
   "outputs": [],
   "source": [
    "def process(img_path, save_path):\n",
    "    img = cv.imread(img_path, cv.IMREAD_COLOR)\n",
    "    print('w=', str(img.shape[0]) +',', '  h=',img.shape[1])\n",
    "\n",
    "    while(True):\n",
    "        cv.imshow('image', img)\n",
    "        key = cv.waitKey(0)\n",
    "        if key == 27:\n",
    "            break\n",
    "\n",
    "    cv.destroyWindow('image')\n",
    "\n",
    "    #return key"
   ]
  },
  {
   "cell_type": "code",
   "execution_count": 7,
   "metadata": {},
   "outputs": [],
   "source": [
    "def simple_img_crop(img_path, save_path):\n",
    "\n",
    "    mouse_is_pressing = False   #마우스 왼쪽 버튼 상태 체크를 위해 사용\n",
    "    color = (255,255,255)   #도형 내부를 채울 때 사용할 색 지정시 사용\n",
    "    \n",
    "    #그리기 결과를 저장할 이미지\n",
    "    img = cv.imread(img_path, cv.IMREAD_COLOR)\n",
    "\n",
    "    # 가로세로 크기 중에서 더 긴 쪽을 기준으로 축소 비율을 계산\n",
    "    max_size = 1000\n",
    "    if img.shape[1] > img.shape[0]:\n",
    "        scale = max_size / img.shape[1]\n",
    "    else:\n",
    "        scale = max_size / img.shape[0]\n",
    "\n",
    "    new_width = int(img.shape[0] * scale)\n",
    "    new_height = int(img.shape[1] * scale)\n",
    "\n",
    "    img = cv.resize(img, (new_width, new_height), interpolation=cv.INTER_AREA)\n",
    "    t_img = img.copy() #임시 이미지\n",
    "\n",
    "    #마우스 이벤트 발생 시 호출될 함수 정의\n",
    "    def mouse_callback(event, x, y, flags, param):\n",
    "        global color, start_x, start_y, mouse_is_pressing\n",
    "\n",
    "        #마우스 왼쪽 버튼을 누르면 발생하는 이벤트\n",
    "        if event == cv.EVENT_LBUTTONDOWN:\n",
    "            #랜덤으로(blue, green, red)로 사용될 색을 생성한다.\n",
    "            color = (random.randrange(256), random.randrange(256), random.randrange(256))\n",
    "            #마우스 왼쪽 버튼을 누른 것을 체크\n",
    "            mouse_is_pressing = True\n",
    "            #마우스 왼쪽 버튼을 누른 위치로 연산\n",
    "            if (x - 150) < 0:\n",
    "                x = 150\n",
    "            if (y - 150) < 0:\n",
    "                y = 150\n",
    "\n",
    "            if (x + 150) > img.shape[1]:\n",
    "                x = img.shape[1] - 150\n",
    "            if (y + 150) > img.shape[0]:\n",
    "                y = img.shape[0] - 150\n",
    "            \n",
    "            start_x = x - 150\n",
    "            start_y = y - 150\n",
    "            end_x = x + 150\n",
    "            end_y = y + 150   \n",
    "\n",
    "            cv.rectangle(t_img, (start_x, start_y), (end_x, end_y), color, 3)\n",
    "\n",
    "    #윈도우 지정, 마우스 콜백함수를 지정\n",
    "    cv.namedWindow('Image')\n",
    "    cv.setMouseCallback('Image', mouse_callback)\n",
    "\n",
    "    num = 0\n",
    "    while(1):\n",
    "        cv.imshow('Image',t_img)\n",
    "\n",
    "        key = cv.waitKey(1)\n",
    "    \n",
    "        if key == 27: #창 닫기(esc)\n",
    "            break\n",
    "        elif key == ord('s'): #저장, 키보드 s키 누르면 현재 선택된 위치 저장 됨.\n",
    "            fn = f'{save_path}_{num}.png'\n",
    "            cv.imwrite(fn, img[start_y:start_y+300, start_x:start_x+300].copy())\n",
    "            num = num + 1\n",
    "\n",
    "    cv.destroyAllWindows() #창 닫기"
   ]
  },
  {
   "cell_type": "code",
   "execution_count": 8,
   "metadata": {},
   "outputs": [
    {
     "name": "stdout",
     "output_type": "stream",
     "text": [
      "pikist (1).jpg\n",
      "pikist (1)\n",
      "pikist (2).jpg\n",
      "pikist (2)\n",
      "pikist (3).jpg\n",
      "pikist (3)\n",
      "pikist (4).jpg\n",
      "pikist (4)\n",
      "pikist.jpg\n",
      "pikist\n"
     ]
    }
   ],
   "source": [
    "lo ='C:/Users/82103/Desktop/road/f/' #자르기 전 원본 파일 경로\n",
    "save_path = 'C:/Users/82103/Desktop/road/crop/' #자르면 저장할 경로\n",
    "try:\n",
    "    if not os.path.exists(save_path):\n",
    "            os.mkdir(save_path)\n",
    "except OSError:\n",
    "        print(\"Error: Failed to create the directory.\")\n",
    "\n",
    "file_list = os.listdir(lo)\n",
    "img = []\n",
    "\n",
    "for i in range(len(file_list)):  \n",
    "    ## 현재 ESC 누르면 지금 떠있는 이미지만 내려가고, 다음 이미지가 이어서 올라옴.\n",
    "    ## 중간에 작업 중단 후 이어서 할 시 기록 보고 포문 범위를 지정해서 작업 수행할 것.\n",
    "\n",
    "    print(file_list[i]) #파일이름 확인\n",
    "    print(file_list[i][:-4]) #파일이름 확인(확장자명 제외)\n",
    "    \n",
    "    save_path = f'C:/Users/82103/Desktop/road/crop/{file_list[i][:-3]}'\n",
    "    simple_img_crop(lo+ file_list[i], save_path)"
   ]
  }
 ],
 "metadata": {
  "kernelspec": {
   "display_name": "Python 3.11.1 64-bit",
   "language": "python",
   "name": "python3"
  },
  "language_info": {
   "codemirror_mode": {
    "name": "ipython",
    "version": 3
   },
   "file_extension": ".py",
   "mimetype": "text/x-python",
   "name": "python",
   "nbconvert_exporter": "python",
   "pygments_lexer": "ipython3",
   "version": "3.11.3"
  },
  "orig_nbformat": 4,
  "vscode": {
   "interpreter": {
    "hash": "5f7ca5ff1e6d9d7f5a8cf08ac30f70c8ee2e347e3df410c4807e479133929497"
   }
  }
 },
 "nbformat": 4,
 "nbformat_minor": 2
}
