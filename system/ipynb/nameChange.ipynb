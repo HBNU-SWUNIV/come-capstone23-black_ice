{
 "cells": [
  {
   "cell_type": "code",
   "execution_count": 1,
   "metadata": {},
   "outputs": [
    {
     "data": {
      "text/plain": [
       "'utf-8'"
      ]
     },
     "execution_count": 1,
     "metadata": {},
     "output_type": "execute_result"
    }
   ],
   "source": [
    "import pandas as pd\n",
    "import os\n",
    "import sys"
   ]
  },
  {
   "cell_type": "code",
   "execution_count": 2,
   "metadata": {},
   "outputs": [
    {
     "name": "stdout",
     "output_type": "stream",
     "text": [
      "d:\\임시다운폴더/Blue Archive\n",
      "<class 'str'>\n"
     ]
    }
   ],
   "source": [
    "workDir = os.getcwd() + '/Blue Archive'  #수정해서 쓸것.\n",
    "print(workDir)\n",
    "print(type(workDir))"
   ]
  },
  {
   "cell_type": "code",
   "execution_count": 3,
   "metadata": {},
   "outputs": [
    {
     "name": "stdout",
     "output_type": "stream",
     "text": [
      "['Asagi Mutsuki.safetensors', 'Asagi Mutsuki.txt', 'Chidori Michiru.safetensors', 'Chihiro Kagami.safetensors', 'Chise Waraku-2clothes.safetensors', 'Chise Waraku-2clothes.txt', 'Hakari Atsuko.safetensors', 'Hayase Yuuka.safetensors', 'Hayase Yuuka.txt', 'Iochi Mari-2clothes.safetensors', 'Iochi Mari-2clothes.txt', 'Itinose Asena.safetensors', 'Junko-2clothes.safetensors', 'Junko-2clothes.txt', 'Kakudate.safetensors', 'Kakudate.txt', 'Kasumizawa Miyu.safetensors', 'Kisaki.pt', 'Kuda Izuna-two clothes.safetensors', 'Kuda Izuna-two clothes.txt', 'Kurosaki Koyuki.safetensors', 'Kurosaki Koyuki.txt', 'Mikamo Neru.safetensors', 'Misono Mika.pt', 'Murokasa Akane.safetensors', 'Natsume Iroha.safetensors', 'Nekozuka Hibiki-two clothes.safetensors', 'Nekozuka Hibiki-two clothes.txt', 'Nemugaki Fubuki.safetensors', 'Nemugaki Fubuki.txt', 'Nonomi.safetensors', 'Nonomi.txt', 'reisa.safetensors', 'Rikuhachima Aru.safetensors', 'Saiba midori.safetensors', 'Shizuko-2clothes.safetensors', 'Shizuko-2clothes.txt', 'Sorasaki Hina.safetensors', 'Sunaookami Shiroko.safetensors', 'Sunohara Kokona.safetensors', 'Sunohara Shun.safetensors', 'Sunohara Shun.txt', 'Tendou Alice.safetensors', 'Toki.safetensors', 'Toki.txt', 'tsukatsuki rio.safetensors', 'Ushio Noa.safetensors', 'Ushio Noa.txt']\n"
     ]
    }
   ],
   "source": [
    "file_list = os.listdir(workDir)\n",
    "print(file_list)"
   ]
  },
  {
   "cell_type": "code",
   "execution_count": 12,
   "metadata": {},
   "outputs": [
    {
     "data": {
      "text/plain": [
       "'Kurosaki Koyuki.safetensors'"
      ]
     },
     "execution_count": 12,
     "metadata": {},
     "output_type": "execute_result"
    }
   ],
   "source": [
    "file_list[20]"
   ]
  },
  {
   "cell_type": "code",
   "execution_count": 8,
   "metadata": {},
   "outputs": [
    {
     "name": "stdout",
     "output_type": "stream",
     "text": [
      "Kuda Izuna-two clothes\n",
      "safetensors\n"
     ]
    },
    {
     "ename": "IndexError",
     "evalue": "list index out of range",
     "output_type": "error",
     "traceback": [
      "\u001b[1;31m---------------------------------------------------------------------------\u001b[0m",
      "\u001b[1;31mIndexError\u001b[0m                                Traceback (most recent call last)",
      "\u001b[1;32m~\\AppData\\Local\\Temp\\ipykernel_22996\\3392237094.py\u001b[0m in \u001b[0;36m<module>\u001b[1;34m\u001b[0m\n\u001b[0;32m      1\u001b[0m \u001b[0mprint\u001b[0m\u001b[1;33m(\u001b[0m\u001b[0mfile_list\u001b[0m\u001b[1;33m[\u001b[0m\u001b[1;36m20\u001b[0m\u001b[1;33m]\u001b[0m\u001b[1;33m.\u001b[0m\u001b[0msplit\u001b[0m\u001b[1;33m(\u001b[0m\u001b[1;34m'.'\u001b[0m\u001b[1;33m)\u001b[0m\u001b[1;33m[\u001b[0m\u001b[1;36m0\u001b[0m\u001b[1;33m]\u001b[0m\u001b[1;33m)\u001b[0m\u001b[1;33m\u001b[0m\u001b[1;33m\u001b[0m\u001b[0m\n\u001b[0;32m      2\u001b[0m \u001b[0mprint\u001b[0m\u001b[1;33m(\u001b[0m\u001b[0mfile_list\u001b[0m\u001b[1;33m[\u001b[0m\u001b[1;36m20\u001b[0m\u001b[1;33m]\u001b[0m\u001b[1;33m.\u001b[0m\u001b[0msplit\u001b[0m\u001b[1;33m(\u001b[0m\u001b[1;34m'.'\u001b[0m\u001b[1;33m)\u001b[0m\u001b[1;33m[\u001b[0m\u001b[1;36m1\u001b[0m\u001b[1;33m]\u001b[0m\u001b[1;33m)\u001b[0m\u001b[1;33m\u001b[0m\u001b[1;33m\u001b[0m\u001b[0m\n\u001b[1;32m----> 3\u001b[1;33m \u001b[0mprint\u001b[0m\u001b[1;33m(\u001b[0m\u001b[0mfile_list\u001b[0m\u001b[1;33m[\u001b[0m\u001b[1;36m20\u001b[0m\u001b[1;33m]\u001b[0m\u001b[1;33m.\u001b[0m\u001b[0msplit\u001b[0m\u001b[1;33m(\u001b[0m\u001b[1;34m'.'\u001b[0m\u001b[1;33m)\u001b[0m\u001b[1;33m[\u001b[0m\u001b[1;36m0\u001b[0m\u001b[1;33m]\u001b[0m\u001b[1;33m.\u001b[0m\u001b[0msplit\u001b[0m\u001b[1;33m(\u001b[0m\u001b[1;34m'】'\u001b[0m\u001b[1;33m)\u001b[0m\u001b[1;33m[\u001b[0m\u001b[1;36m1\u001b[0m\u001b[1;33m]\u001b[0m\u001b[1;33m+\u001b[0m\u001b[1;34m'.'\u001b[0m\u001b[1;33m+\u001b[0m \u001b[0mfile_list\u001b[0m\u001b[1;33m[\u001b[0m\u001b[1;36m20\u001b[0m\u001b[1;33m]\u001b[0m\u001b[1;33m.\u001b[0m\u001b[0msplit\u001b[0m\u001b[1;33m(\u001b[0m\u001b[1;34m'.'\u001b[0m\u001b[1;33m)\u001b[0m\u001b[1;33m[\u001b[0m\u001b[1;36m1\u001b[0m\u001b[1;33m]\u001b[0m \u001b[1;33m)\u001b[0m\u001b[1;33m\u001b[0m\u001b[1;33m\u001b[0m\u001b[0m\n\u001b[0m\u001b[0;32m      4\u001b[0m \u001b[0mprint\u001b[0m\u001b[1;33m(\u001b[0m\u001b[0mfile_list\u001b[0m\u001b[1;33m[\u001b[0m\u001b[1;36m20\u001b[0m\u001b[1;33m]\u001b[0m\u001b[1;33m.\u001b[0m\u001b[0msplit\u001b[0m\u001b[1;33m(\u001b[0m\u001b[1;34m'.'\u001b[0m\u001b[1;33m)\u001b[0m\u001b[1;33m[\u001b[0m\u001b[1;36m0\u001b[0m\u001b[1;33m]\u001b[0m\u001b[1;33m.\u001b[0m\u001b[0msplit\u001b[0m\u001b[1;33m(\u001b[0m\u001b[1;34m'】'\u001b[0m\u001b[1;33m)\u001b[0m\u001b[1;33m[\u001b[0m\u001b[1;36m0\u001b[0m\u001b[1;33m]\u001b[0m\u001b[1;33m)\u001b[0m\u001b[1;33m\u001b[0m\u001b[1;33m\u001b[0m\u001b[0m\n",
      "\u001b[1;31mIndexError\u001b[0m: list index out of range"
     ]
    }
   ],
   "source": [
    "print(file_list[20].split('.')[0])\n",
    "print(file_list[20].split('.')[1])\n",
    "print(file_list[20].split('.')[0].split('】')[1]+'.'+ file_list[20].split('.')[1] )\n",
    "print(file_list[20].split('.')[0].split('】')[0])"
   ]
  },
  {
   "cell_type": "code",
   "execution_count": 11,
   "metadata": {},
   "outputs": [
    {
     "data": {
      "text/plain": [
       "'圣园未花【1girl】Misono Mika.pt'"
      ]
     },
     "execution_count": 11,
     "metadata": {},
     "output_type": "execute_result"
    }
   ],
   "source": [
    "file_list[14]"
   ]
  },
  {
   "cell_type": "code",
   "execution_count": 12,
   "metadata": {},
   "outputs": [
    {
     "data": {
      "text/plain": [
       "b'\\xd2\\xc2\\xb7\\xfe\\xa1\\xbe\\xbd\\xc7\\xc9\\xablora\\xa1\\xbfKuda Izuna-two clothes.txt'"
      ]
     },
     "execution_count": 12,
     "metadata": {},
     "output_type": "execute_result"
    }
   ],
   "source": [
    "'衣服【角色lora】Kuda Izuna-two clothes.txt'.encode('GB2312')"
   ]
  },
  {
   "cell_type": "code",
   "execution_count": 13,
   "metadata": {},
   "outputs": [
    {
     "data": {
      "text/plain": [
       "b'\\xbe\\xc3\\xcc\\xef\\xd2\\xc1\\xca\\xf7\\xb2\\xcb-\\xcb\\xab\\xd2\\xc2\\xb7\\xfe\\xa1\\xbe\\xbd\\xc7\\xc9\\xablora\\xa1\\xbfKuda Izuna-two clothes.txt'"
      ]
     },
     "execution_count": 13,
     "metadata": {},
     "output_type": "execute_result"
    }
   ],
   "source": [
    "\"久田伊树菜-双衣服【角色lora】Kuda Izuna-two clothes.txt\".encode('GB2312')"
   ]
  },
  {
   "cell_type": "code",
   "execution_count": 14,
   "metadata": {},
   "outputs": [
    {
     "ename": "UnicodeEncodeError",
     "evalue": "'euc_kr' codec can't encode character '\\u6811' in position 3: illegal multibyte sequence",
     "output_type": "error",
     "traceback": [
      "\u001b[1;31m---------------------------------------------------------------------------\u001b[0m",
      "\u001b[1;31mUnicodeEncodeError\u001b[0m                        Traceback (most recent call last)",
      "\u001b[1;32m~\\AppData\\Local\\Temp\\ipykernel_15092\\2884688635.py\u001b[0m in \u001b[0;36m<module>\u001b[1;34m\u001b[0m\n\u001b[1;32m----> 1\u001b[1;33m \u001b[1;34m'久田伊树菜-双衣服【角色lora】Kuda Izuna-two clothes.txt'\u001b[0m\u001b[1;33m.\u001b[0m\u001b[0mencode\u001b[0m\u001b[1;33m(\u001b[0m\u001b[1;34m'euc-kr'\u001b[0m\u001b[1;33m)\u001b[0m\u001b[1;33m\u001b[0m\u001b[1;33m\u001b[0m\u001b[0m\n\u001b[0m",
      "\u001b[1;31mUnicodeEncodeError\u001b[0m: 'euc_kr' codec can't encode character '\\u6811' in position 3: illegal multibyte sequence"
     ]
    }
   ],
   "source": [
    "'久田伊树菜-双衣服【角色lora】Kuda Izuna-two clothes.txt'.encode('euc-kr')"
   ]
  },
  {
   "cell_type": "code",
   "execution_count": null,
   "metadata": {},
   "outputs": [],
   "source": [
    "for i in range(len(file_list)):\n",
    "    #print( file_list[i] )\n",
    "    if(file_list[i][0] != '3'):\n",
    "        print( i )\n",
    "        before_name = file_list[i]\n",
    "        TrueName = file_list[i].split('.')[0].split('】')[1]\n",
    "        filetype = file_list[i].split('.')[1]\n",
    "\n",
    "        #그냥 시도하면 파이썬 기본 인코딩이 utf-8 이라 중국어 파일명의 일부 한자를 인식하지 못 함.\n",
    "        #(중국어는 다른 인코딩 씀)\n",
    "        # 1. utf-8 인코더로 공통 형식으로 변환, 이후 디코더로 다시 utf-8 변환\n",
    "        # 2. 변환된 문자열에서 중국어 부분을 제거해 영어만 남긴다\n",
    "\n",
    "\n",
    "        #공통 형식으로 변환, 저장위치\n",
    "        before_name_encode_utf =( workDir + '/' + file_list[i] ).encode('utf-8').decode('utf-8')\n",
    "        after_name_encode_utf =  workDir + '/' + TrueName + '.' +  filetype\n",
    "\n",
    "        # 중국어 부분 제거\n",
    "        if(len(TrueName) >=1  ):\n",
    "            print(before_name)\n",
    "            print('변경 :  ' +TrueName +filetype + '\\n')\n",
    "            os.rename( before_name_encode_utf , after_name_encode_utf)\n",
    "        else:\n",
    "            print('이름 변경 실패 :  ' + before_name)"
   ]
  },
  {
   "cell_type": "code",
   "execution_count": 4,
   "metadata": {},
   "outputs": [],
   "source": [
    "for i in range(len(file_list)):\n",
    "    os.rename( workDir + '/' + file_list[i] , '3Character - [Blue Archive] ' + file_list[i] )"
   ]
  },
  {
   "cell_type": "markdown",
   "metadata": {},
   "source": []
  }
 ],
 "metadata": {
  "kernelspec": {
   "display_name": "Python 3.11.1 64-bit",
   "language": "python",
   "name": "python3"
  },
  "language_info": {
   "codemirror_mode": {
    "name": "ipython",
    "version": 3
   },
   "file_extension": ".py",
   "mimetype": "text/x-python",
   "name": "python",
   "nbconvert_exporter": "python",
   "pygments_lexer": "ipython3",
   "version": "3.11.1"
  },
  "orig_nbformat": 4,
  "vscode": {
   "interpreter": {
    "hash": "5f7ca5ff1e6d9d7f5a8cf08ac30f70c8ee2e347e3df410c4807e479133929497"
   }
  }
 },
 "nbformat": 4,
 "nbformat_minor": 2
}
