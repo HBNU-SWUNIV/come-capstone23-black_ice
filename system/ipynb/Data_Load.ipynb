{
 "cells": [
  {
   "cell_type": "code",
   "execution_count": 2,
   "metadata": {},
   "outputs": [],
   "source": [
    "import pandas as pd\n",
    "import os\n",
    "import numpy as np\n",
    "import matplotlib.pyplot as plt\n",
    "\n",
    "from bs4 import BeautifulSoup\n",
    "import requests\n",
    "import datetime\n",
    "import time"
   ]
  },
  {
   "cell_type": "code",
   "execution_count": 3,
   "metadata": {},
   "outputs": [],
   "source": [
    "#url = 'https://apihub.kma.go.kr/api/typ01/url/awsh.php?var=RN&tm=202304101500&stn=548&help=0&authKey=aaZrhx_QRmyma4cf0PZsug'\n",
    "url = 'https://apihub.kma.go.kr/api/typ01/url/awsh.php?var=RN&tm=202304101500&stn=548&help=1&authKey=aaZrhx_QRmyma4cf0PZsug'\n",
    "res = requests.get(url)\n",
    "res.raise_for_status()"
   ]
  },
  {
   "cell_type": "code",
   "execution_count": 4,
   "metadata": {},
   "outputs": [],
   "source": [
    "time.sleep(2)"
   ]
  },
  {
   "cell_type": "code",
   "execution_count": 5,
   "metadata": {},
   "outputs": [],
   "source": [
    "soup = BeautifulSoup(res.text, 'html')"
   ]
  },
  {
   "cell_type": "code",
   "execution_count": 6,
   "metadata": {},
   "outputs": [
    {
     "name": "stdout",
     "output_type": "stream",
     "text": [
      "<html><body><p>#START7777\n",
      "#--------------------------------------------------------------------------------------------------\n",
      "#  RE_SUM        : 과거 60분간 '강수있음'의 분수 합 \n",
      "#  RE_QCM        : 과거 60분간 사용된 '강수유무' 자료수 합 \n",
      "#  RN_DAY        : 해당시간까지의 일강수량 (mm) \n",
      "#  RN_DAY_MI     : 위 일강수량의 시간차 : 관측시각-TM (분) \n",
      "#  RN_HR1        : 1시간 강수량 (mm) \n",
      "#  RN_HR1_MI     : 관측시간-1시간 강수량 누적 시작 시간차 (분) \n",
      "#  RN_60M_MAX    : 과거 60분간에 최대 60분이동누적강수량 (mm) \n",
      "#  RN_60M_MAX_MI : 위 최대값의 시간차 : 관측시각-TM (분) \n",
      "#  RN_60M_QCM    : 위 계산에 사용된 60분 강수량 자료수 \n",
      "#  RN_15M_MAX    : 과거 60분간에 최대 15분이동누적강수량 (mm) \n",
      "#  RN_15M_MAX_MI : 위 최대값의 시간차 : 관측시각-TM (분) \n",
      "#  RN_15M_QCM    : 위 계산에 사용된 15분 강수량 자료수 \n",
      "#--------------------------------------------------------------------------------------------------\n",
      "# YYMMDDHHMI   STN  RE  RE     RN  MI     RN  MI     RN  MI QCM     RN  MI QCM\n",
      "#                  SUM QCM    DAY DAY    HR1 HR1    60M 60M 60M    15M 15M 15M\n",
      "#        KST    ID  mi  mi     mm  mi     mm  mi     mm  mi  mi     mm  mi  mi\n",
      "202304101500   548   0  60    0.0   0    0.0 -60    0.0 -59  60    0.0 -59  60\n",
      "#7777END\n",
      "</p></body></html>\n",
      "<class 'bs4.BeautifulSoup'>\n",
      "<class 'str'>\n"
     ]
    }
   ],
   "source": [
    "print(soup)\n",
    "print(type(soup))\n",
    "print(type(soup.text))"
   ]
  },
  {
   "cell_type": "code",
   "execution_count": 7,
   "metadata": {},
   "outputs": [],
   "source": [
    "front = soup.text.split('\\n')"
   ]
  },
  {
   "cell_type": "code",
   "execution_count": 8,
   "metadata": {},
   "outputs": [
    {
     "data": {
      "text/plain": [
       "list"
      ]
     },
     "execution_count": 8,
     "metadata": {},
     "output_type": "execute_result"
    }
   ],
   "source": [
    "type(front)"
   ]
  },
  {
   "cell_type": "code",
   "execution_count": 9,
   "metadata": {},
   "outputs": [
    {
     "data": {
      "text/plain": [
       "'#--------------------------------------------------------------------------------------------------'"
      ]
     },
     "execution_count": 9,
     "metadata": {},
     "output_type": "execute_result"
    }
   ],
   "source": [
    "front[1]"
   ]
  },
  {
   "cell_type": "code",
   "execution_count": 10,
   "metadata": {},
   "outputs": [
    {
     "name": "stdout",
     "output_type": "stream",
     "text": [
      "# YYMMDDHHMI   STN  RE  RE     RN  MI     RN  MI     RN  MI QCM     RN  MI QCM\n",
      "#                  SUM QCM    DAY DAY    HR1 HR1    60M 60M 60M    15M 15M 15M\n",
      "#        KST    ID  mi  mi     mm  mi     mm  mi     mm  mi  mi     mm  mi  mi\n",
      "202304101500   548   0  60    0.0   0    0.0 -60    0.0 -59  60    0.0 -59  60\n"
     ]
    }
   ],
   "source": [
    "real  = []\n",
    "for i in range(len(front)-1): #마지막에 줄바꿈 문자가 있어서 인덱싱 에러가 나므로 마지막줄을 빼준다.\n",
    "    if(front[i][0] != \"#\"):\n",
    "        real.append(front[i])\n",
    "        print(front[i-3])\n",
    "        print(front[i-2])\n",
    "        print(front[i-1]) #        KST    ID  mi  mi     mm  mi     mm  mi     mm  mi  mi     mm  mi  mi\n",
    "        print(front[i])"
   ]
  },
  {
   "cell_type": "code",
   "execution_count": 11,
   "metadata": {},
   "outputs": [
    {
     "data": {
      "text/plain": [
       "['202304101500   548   0  60    0.0   0    0.0 -60    0.0 -59  60    0.0 -59  60']"
      ]
     },
     "execution_count": 11,
     "metadata": {},
     "output_type": "execute_result"
    }
   ],
   "source": [
    "real"
   ]
  },
  {
   "cell_type": "markdown",
   "metadata": {},
   "source": [
    "##변수 조립##"
   ]
  },
  {
   "cell_type": "markdown",
   "metadata": {},
   "source": [
    "# 기상청 API 설명\n",
    "https://apihub.kma.go.kr/\n",
    "\n",
    "\n",
    "\n",
    "# AWS2 매분자료\n",
    "https://apihub.kma.go.kr/api/typ01/cgi-bin/url/nph-aws2_min?\n",
    "\n",
    "https://apihub.kma.go.kr/api/typ01/cgi-bin/url/nph-aws2_min?tm2=202302010900&stn=0&disp=0&help=1&authKey=LcdJI2t7SuCHSSNrexrgGA\n",
    "\n",
    "MD_column = [ 'YYMMDDHHMI_KST', 'STN_ID', 'WD1_deg', 'WS1_m/s', 'WDS_deg', 'WSS_m/s', 'WS10_deg', 'WS10_m/s', 'TA_C', \n",
    "'RE_1', 'RN-15m_mm', 'RN-60m_mm', 'RN-12H_mm', 'RN-DAY_mm', 'HM_%', 'PA_hPa', 'PS_hPa', 'TD_C' ]\n",
    "\n",
    "\n",
    "# AWS2 매분 시정 자료(현천도 나옴)\n",
    "https://apihub.kma.go.kr/api/typ01/cgi-bin/url/nph-aws2_min_vis?\n",
    "\n",
    "https://apihub.kma.go.kr/api/typ01/cgi-bin/url/nph-aws2_min_vis?tm2=202304141510&stn=548&disp=0&help=1&authKey=LcdJI2t7SuCHSSNrexrgGA\n",
    "\n",
    "MD_NW_column = [ 'YYMMDDHHMI_KST',  'STN_ID', 'LON_deg', 'LAT_deg  S', 'VIS1_m', 'VIS10_m', 'WW1', 'WW15' ]\n",
    "\n",
    "\n",
    "# AWS2 매분 현천 자료(추가 처리 필요)\n",
    "https://apihub.kma.go.kr/api/typ01/cgi-bin/url/nph-aws2_min_ww1?\n",
    "\n",
    "https://apihub.kma.go.kr/api/typ01/cgi-bin/url/nph-aws2_min_ww1?tm1=202304141200&tm2=202304141240&itv=10&range=240&stn=548&help=1&authKey=LcdJI2t7SuCHSSNrexrgGA"
   ]
  },
  {
   "cell_type": "code",
   "execution_count": 12,
   "metadata": {},
   "outputs": [],
   "source": [
    "url = 'https://apihub.kma.go.kr/api/typ01/cgi-bin/url/nph-aws2_min_ww1?tm2=201503221200&itv=60&range=60&stn=548&help=1&authKey=aaZrhx_QRmyma4cf0PZsug'\n",
    "res = requests.get(url)\n",
    "res.raise_for_status()\n",
    "\n",
    "time.sleep(2)\n",
    "\n",
    "soup = BeautifulSoup(res.text, 'html')"
   ]
  },
  {
   "cell_type": "code",
   "execution_count": 13,
   "metadata": {},
   "outputs": [
    {
     "name": "stdout",
     "output_type": "stream",
     "text": [
      "<html><body><p>#START7777\n",
      "#--------------------------------------------------------------------------------------------------\n",
      "#  S   : Àåºñ±¸ºÐ (1:¾È°³°üÃø¸Á(¸ÕÀú ¼³Ä¡), 2:Ã·´ÜÈ­Àåºñ)\n",
      "#  N   : range ±â°£ µ¿¾È¿¡ °üÃøµÈ Çö»óÁ¾·ùÀÇ ¼ö\n",
      "#  WW1 : Çö»ó¹øÈ£\n",
      "#  NN1 : WW1 Çö»óÀÇ °üÃøµÈ È½¼ö(ºÐ)\n",
      "#  ... : WW1, NN1 ÀÌ N °¹¼ö¸¸Å­ ¹Ýº¹µÊ\n",
      "#--------------------------------------------------------------------------------------------------\n",
      "# ÇöÃµÄÚµå : 0~2(¸¼À½), 4(¿¬¹«), 10(¹Ú¹«), 30(¾È°³), 40~42(ºñ), 50~59(¾È°³ºñ), 60~68(ºñ), 71~76(´«)\n",
      "#--------------------------------------------------------------------------------------------------\n",
      "# YYMMDDHHMI,  STN,         LON,         LAT, S, N, WW1, NN1, ...,=\n",
      "#        KST,   ID,       (deg),       (deg),  ,  ,    ,    , ...,=\n",
      "201503221200,  548,127.63954926, 37.26882935, 2, 2,   0,  57,  10,   3,=\n",
      "#7777END\n",
      "</p></body></html>\n",
      "<class 'bs4.BeautifulSoup'>\n",
      "<class 'str'>\n"
     ]
    }
   ],
   "source": [
    "print(soup)\n",
    "print(type(soup))\n",
    "print(type(soup.text))"
   ]
  },
  {
   "cell_type": "code",
   "execution_count": 14,
   "metadata": {},
   "outputs": [],
   "source": [
    "front = soup.text.split('\\n')"
   ]
  },
  {
   "cell_type": "code",
   "execution_count": 15,
   "metadata": {},
   "outputs": [
    {
     "data": {
      "text/plain": [
       "list"
      ]
     },
     "execution_count": 15,
     "metadata": {},
     "output_type": "execute_result"
    }
   ],
   "source": [
    "type(front)"
   ]
  },
  {
   "cell_type": "code",
   "execution_count": 16,
   "metadata": {},
   "outputs": [
    {
     "data": {
      "text/plain": [
       "'#--------------------------------------------------------------------------------------------------'"
      ]
     },
     "execution_count": 16,
     "metadata": {},
     "output_type": "execute_result"
    }
   ],
   "source": [
    "front[1]"
   ]
  },
  {
   "cell_type": "code",
   "execution_count": 17,
   "metadata": {},
   "outputs": [
    {
     "name": "stdout",
     "output_type": "stream",
     "text": [
      "#        KST,   ID,       (deg),       (deg),  ,  ,    ,    , ...,=\n",
      "201503221200,  548,127.63954926, 37.26882935, 2, 2,   0,  57,  10,   3,=\n"
     ]
    }
   ],
   "source": [
    "real  = []\n",
    "for i in range(len(front)-1): #마지막에 줄바꿈 문자가 있어서 인덱싱 에러가 나므로 마지막줄을 빼준다.\n",
    "    if(front[i][0] != \"#\"):\n",
    "        real.append(front[i])\n",
    "        print(front[i-1]) #        KST    ID  mi  mi     mm  mi     mm  mi     mm  mi  mi     mm  mi  mi\n",
    "        print(front[i])"
   ]
  },
  {
   "cell_type": "code",
   "execution_count": 18,
   "metadata": {},
   "outputs": [],
   "source": [
    "if(len(real) > 0):\n",
    "    real[0]"
   ]
  },
  {
   "cell_type": "code",
   "execution_count": 19,
   "metadata": {},
   "outputs": [
    {
     "data": {
      "text/plain": [
       "['201503221200,  548,127.63954926, 37.26882935, 2, 2,   0,  57,  10,   3,=']"
      ]
     },
     "execution_count": 19,
     "metadata": {},
     "output_type": "execute_result"
    }
   ],
   "source": [
    "real"
   ]
  },
  {
   "cell_type": "code",
   "execution_count": 20,
   "metadata": {},
   "outputs": [
    {
     "name": "stdout",
     "output_type": "stream",
     "text": [
      "b'<?xml version=\"1.0\" encoding=\"UTF-8\"?>\\r\\n<response><header><resultCode>00</resultCode><resultMsg>NORMAL_SERVICE</resultMsg></header><body><dataType>XML</dataType><items><item><baseDate>20230422</baseDate><baseTime>1705</baseTime><weatherNm>\\xed\\x98\\x84\\xec\\x83\\x81\\xec\\x97\\x86\\xec\\x9d\\x8c</weatherNm></item></items><numOfRows>10</numOfRows><pageNo>1</pageNo><totalCount>1</totalCount></body></response>\\r\\n'\n"
     ]
    },
    {
     "data": {
      "text/plain": [
       "'<?xml version=\"1.0\" encoding=\"UTF-8\"?>\\r\\n<response><header><resultCode>00</resultCode><resultMsg>NORMAL_SERVICE</resultMsg></header><body><dataType>XML</dataType><items><item><baseDate>20230422</baseDate><baseTime>1705</baseTime><weatherNm>현상없음</weatherNm></item></items><numOfRows>10</numOfRows><pageNo>1</pageNo><totalCount>1</totalCount></body></response>\\r\\n'"
      ]
     },
     "execution_count": 20,
     "metadata": {},
     "output_type": "execute_result"
    }
   ],
   "source": [
    "import requests\n",
    "\n",
    "\n",
    "##CCTV 기반 날씨\n",
    "url = 'http://apis.data.go.kr/1360000/RoadWthrInfoService/getCctvStnRoadWthr'\n",
    "params ={'serviceKey' : 'EEa94+B5XdFwdYp09nxCOC1JmGOLfawvDQTOrJMqfJsRihjPY5K75Oap+IWUktv/Zq89XHAsX2Y+c80TAkdovA==', 'pageNo' : '1', 'numOfRows' : '10', 'dataType' : 'XML', 'eqmtId' : '0500C00001','hhCode' : '00' }\n",
    "\n",
    "response = requests.get(url, params=params)\n",
    "print(response.content)\n",
    "response.text"
   ]
  },
  {
   "cell_type": "code",
   "execution_count": 21,
   "metadata": {},
   "outputs": [
    {
     "data": {
      "text/plain": [
       "\"\\nstn = '548'\\napi_key = 'LcdJI2t7SuCHSSNrexrgGA'\\n\\nu = 'https://apihub.kma.go.kr/api/typ01/cgi-bin/url/nph-aws2_min?'\\nstn = 'stn=' + stn\\napi_key = 'authKey=' + api_key\\n\\nurl = u + '&' + stn  + '&' + api_key\\nres = requests.get(url)\\nres.raise_for_status()\\ntime.sleep(1)\\n\\nsoup = BeautifulSoup(res.text, 'html')\\nfront = soup.text\\n\\nfront\\n\""
      ]
     },
     "execution_count": 21,
     "metadata": {},
     "output_type": "execute_result"
    }
   ],
   "source": [
    "'''\n",
    "stn = '548'\n",
    "api_key = 'LcdJI2t7SuCHSSNrexrgGA'\n",
    "\n",
    "u = 'https://apihub.kma.go.kr/api/typ01/cgi-bin/url/nph-aws2_min?'\n",
    "stn = 'stn=' + stn\n",
    "api_key = 'authKey=' + api_key\n",
    "\n",
    "url = u + '&' + stn  + '&' + api_key\n",
    "res = requests.get(url)\n",
    "res.raise_for_status()\n",
    "time.sleep(1)\n",
    "\n",
    "soup = BeautifulSoup(res.text, 'html')\n",
    "front = soup.text\n",
    "\n",
    "front\n",
    "'''"
   ]
  },
  {
   "cell_type": "code",
   "execution_count": 22,
   "metadata": {},
   "outputs": [],
   "source": [
    "def predict_part_load(local, api_key):\n",
    "    #예보 구역 이름과 api 키를 입력받아서\n",
    "    #현재 지역의 예보 구역 코드를 리턴. \n",
    "    '''\n",
    "    REG_ID   : 예보구역코드\n",
    "    TM_ST    : 시작시각(년월일시분,KST)\n",
    "    TM_ED    : 종료시각(년월일시분,KST)\n",
    "    REG_SP   : 특성 (A:육상광역,B:육상국지,C:도시,D:산악,E:고속도로,H:해상광역,I:해상국지,J:연안바다,K:해수욕장,L:연안항로,M:먼항로,P:산악)\n",
    "    REG_NAME : 예보구역명\n",
    "\n",
    "\n",
    "    11B20701 201610131800 210012310000 C      이천 \n",
    "    11B20702 201610131800 210012310000 C      광주 \n",
    "    11B20703 201610131800 210012310000 C      여주 \n",
    "    11C000D1 199001010000 210012310000 D      계룡산\n",
    "    '''\n",
    "\n",
    "    url = f'https://apihub.kma.go.kr/api/typ01/url/fct_shrt_reg.php?tmfc=0&authKey={api_key}'\n",
    "    \n",
    "    res = requests.get(url)\n",
    "    #time.sleep(1)\n",
    "\n",
    "    soup = BeautifulSoup(res.text, 'html')\n",
    "    front = soup.text.split('\\n')\n",
    "\n",
    "    real  = []\n",
    "    for i in range(len(front)-1): #마지막에 줄바꿈 문자가 있어서 인덱싱 에러가 나므로 마지막줄을 빼준다.\n",
    "        if(front[i][0] != \"#\"):\n",
    "            real.append(front[i])\n",
    "\n",
    "    location = None\n",
    "\n",
    "    for i in range(len(real)):\n",
    "        real[i] = str(real[i]).split(' ') # 슬라이싱\n",
    "        for k in range(len(real[i])):\n",
    "            if real[i][k] == local:\n",
    "                location = real[i]\n",
    "\n",
    "    if location == None: \n",
    "        print('해당 지역 정보가 없음.')\n",
    "        return None\n",
    "\n",
    "    info = []\n",
    "    for i in range(len(location)):\n",
    "        if len(location[i]) > 0:\n",
    "            info.append(location[i])\n",
    "\n",
    "    return info"
   ]
  },
  {
   "cell_type": "code",
   "execution_count": 23,
   "metadata": {},
   "outputs": [
    {
     "name": "stdout",
     "output_type": "stream",
     "text": [
      "['11B20703', '201610131800', '210012310000', 'C', '여주']\n",
      "<class 'list'>\n"
     ]
    }
   ],
   "source": [
    "p = predict_part_load('여주', 'LcdJI2t7SuCHSSNrexrgGA')\n",
    "print(p)\n",
    "print(type(p))"
   ]
  },
  {
   "cell_type": "code",
   "execution_count": 24,
   "metadata": {},
   "outputs": [
    {
     "name": "stdout",
     "output_type": "stream",
     "text": [
      "해당 지역 정보가 없음.\n",
      "None\n",
      "<class 'NoneType'>\n"
     ]
    }
   ],
   "source": [
    "p = predict_part_load('ㅇㅇ', 'LcdJI2t7SuCHSSNrexrgGA')\n",
    "print(p)\n",
    "print(type(p))"
   ]
  },
  {
   "cell_type": "code",
   "execution_count": 25,
   "metadata": {},
   "outputs": [],
   "source": [
    "#https://apihub.kma.go.kr/api/typ01/url/fct_afs_dl2.php?reg=11B20703&tmfc1=202304200000&tmfc2=202304210000&&disp=0&help=1&authKey=Os5DnJkMQpmOQ5yZDLKZ2Q"
   ]
  },
  {
   "cell_type": "markdown",
   "metadata": {},
   "source": [
    "##기상청 날씨누리 단기 에보.\n",
    "\n",
    "https://www.weather.go.kr/w/weather/forecast/short-term.do#\n",
    "\n",
    "\n",
    "\n",
    "\n",
    "##기상청 초단기예보 API(기상청 API 허브에 나온 API랑 다름.)\n",
    "\n",
    "https://www.data.go.kr/iim/api/selectAPIAcountView.do"
   ]
  },
  {
   "cell_type": "code",
   "execution_count": 26,
   "metadata": {},
   "outputs": [
    {
     "name": "stdout",
     "output_type": "stream",
     "text": [
      "http://apis.data.go.kr/1360000/VilageFcstInfoService_2.0/getVilageFcst?serviceKey=eqTbu5tgsBlxHlliXVpp4A6FZyGJCS6ct%2FQWVPZuhRy3x05IGhAHlr0U9b%2B4qPEUNfrWVf2n5FtdffkCi33MQg%3D%3D&numOfRows=24&pageNo=1&base_date=20230421&base_time=0537&nx=55&ny=127\n",
      "202304210500TMP2023042106001055127\n",
      "202304210500UUU2023042106000.655127\n",
      "202304210500VVV202304210600-3.955127\n",
      "202304210500VEC20230421060035155127\n",
      "202304210500WSD2023042106003.955127\n",
      "202304210500SKY202304210600155127\n",
      "202304210500PTY202304210600055127\n",
      "202304210500POP202304210600055127\n",
      "202304210500WAV202304210600055127\n",
      "202304210500PCP202304210600강수없음55127\n",
      "202304210500REH2023042106005055127\n",
      "202304210500SNO202304210600적설없음55127\n",
      "202304210500TMP2023042107001155127\n",
      "202304210500UUU2023042107000.255127\n",
      "202304210500VVV202304210700-4.255127\n",
      "202304210500VEC20230421070035755127\n",
      "202304210500WSD2023042107004.255127\n",
      "202304210500SKY202304210700155127\n",
      "202304210500PTY202304210700055127\n",
      "202304210500POP202304210700055127\n",
      "202304210500WAV202304210700055127\n",
      "202304210500PCP202304210700강수없음55127\n",
      "202304210500REH2023042107004555127\n",
      "202304210500SNO202304210700적설없음55127\n"
     ]
    }
   ],
   "source": [
    "#http://apis.data.go.kr/1360000/VilageFcstInfoService_2.0/getVilageFcst\n",
    "\n",
    "\n",
    "api_key2 = 'eqTbu5tgsBlxHlliXVpp4A6FZyGJCS6ct%2FQWVPZuhRy3x05IGhAHlr0U9b%2B4qPEUNfrWVf2n5FtdffkCi33MQg%3D%3D' #설정파일로 설정할 값\n",
    "today = '20230421' #현재 시간으로 설정할 값\n",
    "today_time = '0537' # 현재 시간으로 설정할 값\n",
    "location_x = '55'  #설정파일로 설정할 값\n",
    "location_y = '127' # 설정파일로 설정할 값\n",
    "h = 2 # 몇시간 앞 정보까지 가져올 것인지(1이면 1시간 후, 2 이면 2시간 후)\n",
    "load_h = h * 12\n",
    "\n",
    "url = f'http://apis.data.go.kr/1360000/VilageFcstInfoService_2.0/getVilageFcst?serviceKey={api_key2}&numOfRows={load_h}&pageNo=1&base_date={today}&base_time={today_time}&nx={location_x}&ny={location_y}'  \n",
    "print(url)\n",
    "res = requests.get(url)\n",
    "soup = BeautifulSoup(res.text, 'xml')\n",
    "#front = soup.text.split('\\n')\n",
    "data = soup.select('item')\n",
    "\n",
    "#print(soup)\n",
    "for it in data:\n",
    "    print(it.text)"
   ]
  },
  {
   "cell_type": "code",
   "execution_count": 7,
   "metadata": {},
   "outputs": [
    {
     "data": {
      "text/plain": [
       "str"
      ]
     },
     "execution_count": 7,
     "metadata": {},
     "output_type": "execute_result"
    }
   ],
   "source": [
    "# 적설, 기간설정해서 조회, 여주는 없음.\n",
    "# https://apihub.kma.go.kr/api/typ01/url/kma_snow2.php?tm=202212250000&tm_st=20221220000&stn=93&help=1&authKey=aF29N6-AQoKdvTevgNKChw #제공 o\n",
    "# https://apihub.kma.go.kr/api/typ01/url/kma_snow2.php?tm=202212250000&tm_st=20221220000&stn=548&help=1&authKey=aF29N6-AQoKdvTevgNKChw #제공 x\n",
    "\n",
    "# 적설 관측지점 조회\n",
    "# https://apihub.kma.go.kr/api/typ01/url/stn_snow.php?mode=0&help=1&authKey=aF29N6-AQoKdvTevgNKChw\n",
    "\n",
    "# 적설 조회, 특정 지점만 조회 불가능. \n",
    "# https://apihub.kma.go.kr/api/typ01/url/kma_snow1.php?sd=tot&tm=202212250000&help=1&authKey=aF29N6-AQoKdvTevgNKChw\n",
    "\n",
    "\n",
    "# 매 분 자료 조회(구간 지정)\n",
    "# https://apihub.kma.go.kr/api/typ01/cgi-bin/url/nph-aws2_min?tm1=202301010000&tm2=202301010100&stn=548&disp=0&help=1&authKey=FouhOAZzSeeLoTgGcynndA\n",
    "# https://apihub.kma.go.kr/api/typ01/cgi-bin/url/nph-aws2_min?tm1=202301010000&tm2=202301010100&stn=548&disp=1&help=0&authKey=FouhOAZzSeeLoTgGcynndA\n",
    "\n",
    "\n",
    "\n",
    "# 종합지상관측(매우 많은 정보 제공, 정시 자료만 제공, 다만 여주는 대상 아님.)\n",
    "# https://apihub.kma.go.kr/api/typ01/url/kma_sfctm3.php?tm1=201512110100&tm2=201512140000&stn=108&help=1&authKey=MiEgBj40QL6hIAY-NLC-BQ"
   ]
  },
  {
   "cell_type": "markdown",
   "metadata": {},
   "source": []
  }
 ],
 "metadata": {
  "kernelspec": {
   "display_name": "Python 3.11.1 64-bit",
   "language": "python",
   "name": "python3"
  },
  "language_info": {
   "codemirror_mode": {
    "name": "ipython",
    "version": 3
   },
   "file_extension": ".py",
   "mimetype": "text/x-python",
   "name": "python",
   "nbconvert_exporter": "python",
   "pygments_lexer": "ipython3",
   "version": "3.11.1"
  },
  "orig_nbformat": 4,
  "vscode": {
   "interpreter": {
    "hash": "5f7ca5ff1e6d9d7f5a8cf08ac30f70c8ee2e347e3df410c4807e479133929497"
   }
  }
 },
 "nbformat": 4,
 "nbformat_minor": 2
}
